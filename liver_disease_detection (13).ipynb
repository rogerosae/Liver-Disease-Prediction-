{
  "cells": [
    {
      "cell_type": "code",
      "execution_count": null,
      "metadata": {
        "colab": {
          "base_uri": "https://localhost:8080/"
        },
        "id": "8wk_NCdFElmX",
        "outputId": "237552b6-2bfe-4d85-9a63-afd5c7b9d570"
      },
      "outputs": [
        {
          "name": "stdout",
          "output_type": "stream",
          "text": [
            "Requirement already satisfied: scikit-learn in /usr/local/lib/python3.10/dist-packages (1.3.2)\n",
            "Requirement already satisfied: numpy<2.0,>=1.17.3 in /usr/local/lib/python3.10/dist-packages (from scikit-learn) (1.25.2)\n",
            "Requirement already satisfied: scipy>=1.5.0 in /usr/local/lib/python3.10/dist-packages (from scikit-learn) (1.13.1)\n",
            "Requirement already satisfied: joblib>=1.1.1 in /usr/local/lib/python3.10/dist-packages (from scikit-learn) (1.4.2)\n",
            "Requirement already satisfied: threadpoolctl>=2.0.0 in /usr/local/lib/python3.10/dist-packages (from scikit-learn) (3.5.0)\n"
          ]
        }
      ],
      "source": [
        "# Data Manipulation and Analysis\n",
        "import pandas as pd\n",
        "import numpy as np\n",
        "import os\n",
        "\n",
        "# Data Visualization\n",
        "import matplotlib.pyplot as plt\n",
        "import seaborn as sns\n",
        "\n",
        "# Preprocessing\n",
        "from sklearn.model_selection import train_test_split, cross_val_score, GridSearchCV\n",
        "from sklearn.preprocessing import StandardScaler, LabelEncoder, OneHotEncoder\n",
        "from sklearn.impute import SimpleImputer\n",
        "\n",
        "# Dimensionality Reduction\n",
        "from sklearn.decomposition import PCA\n",
        "from sklearn.discriminant_analysis import LinearDiscriminantAnalysis as LDA\n",
        "!pip install scikit-learn\n",
        "from sklearn.discriminant_analysis import LinearDiscriminantAnalysis\n",
        "\n",
        "# Machine Learning Models\n",
        "from sklearn.linear_model import LogisticRegression  # Logistic Regression\n",
        "from sklearn.tree import DecisionTreeClassifier, plot_tree  # Decision Trees\n",
        "from sklearn.ensemble import RandomForestClassifier  # Random Forest\n",
        "\n",
        "# Neural Networks\n",
        "from tensorflow.keras.models import Sequential\n",
        "from tensorflow.keras.layers import Dense, Dropout\n",
        "from tensorflow.keras.utils import to_categorical\n",
        "import tensorflow as tf\n",
        "from tensorflow import keras\n",
        "\n",
        "# Evaluation Metrics\n",
        "from sklearn.metrics import accuracy_score, classification_report, confusion_matrix\n",
        "\n",
        "# Miscellaneous\n",
        "import warnings\n",
        "warnings.filterwarnings('ignore')\n",
        "import time\n"
      ]
    },
    {
      "cell_type": "code",
      "execution_count": null,
      "metadata": {
        "id": "sloRjbXU8jAl"
      },
      "outputs": [],
      "source": [
        "from google.colab import drive"
      ]
    },
    {
      "cell_type": "code",
      "execution_count": null,
      "metadata": {
        "colab": {
          "base_uri": "https://localhost:8080/"
        },
        "id": "yr2kTiFCwQNh",
        "outputId": "9b892bac-1024-483d-ebd9-a3a98f623099"
      },
      "outputs": [
        {
          "name": "stdout",
          "output_type": "stream",
          "text": [
            "Mounted at /content/drive\n"
          ]
        }
      ],
      "source": [
        "drive.mount('/content/drive')"
      ]
    },
    {
      "cell_type": "code",
      "execution_count": null,
      "metadata": {
        "colab": {
          "base_uri": "https://localhost:8080/"
        },
        "id": "0yNJK4D9ygZt",
        "outputId": "a4fa7d8a-fbb5-4146-ea6f-11d824201951"
      },
      "outputs": [
        {
          "name": "stdout",
          "output_type": "stream",
          "text": [
            "   Age of the patient Gender of the patient  Total Bilirubin  \\\n",
            "0                65.0                Female              0.7   \n",
            "1                62.0                  Male             10.9   \n",
            "2                62.0                  Male              7.3   \n",
            "3                58.0                  Male              1.0   \n",
            "4                72.0                  Male              3.9   \n",
            "\n",
            "   Direct Bilirubin   Alkphos Alkaline Phosphotase  \\\n",
            "0               0.1                          187.0   \n",
            "1               5.5                          699.0   \n",
            "2               4.1                          490.0   \n",
            "3               0.4                          182.0   \n",
            "4               2.0                          195.0   \n",
            "\n",
            "    Sgpt Alamine Aminotransferase  Sgot Aspartate Aminotransferase  \\\n",
            "0                            16.0                             18.0   \n",
            "1                            64.0                            100.0   \n",
            "2                            60.0                             68.0   \n",
            "3                            14.0                             20.0   \n",
            "4                            27.0                             59.0   \n",
            "\n",
            "   Total Protiens   ALB Albumin  A/G Ratio Albumin and Globulin Ratio  Result  \n",
            "0             6.8           3.3                                  0.90       1  \n",
            "1             7.5           3.2                                  0.74       1  \n",
            "2             7.0           3.3                                  0.89       1  \n",
            "3             6.8           3.4                                  1.00       1  \n",
            "4             7.3           2.4                                  0.40       1  \n"
          ]
        }
      ],
      "source": [
        "df = pd.read_csv('/content/liver_patient_dataset.csv', encoding='latin1')\n",
        "print(df.head())\n"
      ]
    },
    {
      "cell_type": "markdown",
      "metadata": {
        "id": "ccRnKGJRzPOe"
      },
      "source": [
        "Artificial Neural Network (ANN) Test"
      ]
    },
    {
      "cell_type": "code",
      "execution_count": null,
      "metadata": {
        "id": "V9lzGTDlzTpz"
      },
      "outputs": [],
      "source": [
        "df = df.dropna()"
      ]
    },
    {
      "cell_type": "code",
      "execution_count": null,
      "metadata": {
        "id": "pY9AUfWizlJP"
      },
      "outputs": [],
      "source": [
        "label_encoders = {}\n",
        "for column in df.select_dtypes(include=[object]).columns:\n",
        "    le = LabelEncoder()\n",
        "    df[column] = le.fit_transform(df[column])\n",
        "    label_encoders[column] = le"
      ]
    },
    {
      "cell_type": "code",
      "execution_count": null,
      "metadata": {
        "id": "WGV5MIsvzoS0"
      },
      "outputs": [],
      "source": [
        "X = df.iloc[:, :-1].values  # Features\n",
        "y = df.iloc[:, -1].values   # Target variable"
      ]
    },
    {
      "cell_type": "code",
      "execution_count": null,
      "metadata": {
        "id": "F-ECwt0tzuBL"
      },
      "outputs": [],
      "source": [
        "scaler = StandardScaler()\n",
        "X_scaled = scaler.fit_transform(X)"
      ]
    },
    {
      "cell_type": "code",
      "execution_count": null,
      "metadata": {
        "id": "_v1NcesHzyVM"
      },
      "outputs": [],
      "source": [
        "X_train, X_test, y_train, y_test = train_test_split(X_scaled, y, test_size=0.2, random_state=42)"
      ]
    },
    {
      "cell_type": "code",
      "execution_count": null,
      "metadata": {
        "id": "_aEjT_qI0DMn"
      },
      "outputs": [],
      "source": [
        "model = Sequential()\n",
        "model.add(Dense(128, input_dim=X_train.shape[1], activation='relu'))\n",
        "model.add(Dropout(0.5))\n",
        "model.add(Dense(64, activation='relu'))\n",
        "model.add(Dropout(0.5))\n",
        "model.add(Dense(32, activation='relu'))\n",
        "model.add(Dense(1, activation='sigmoid'))  # Use 'softmax' for multi-class classification"
      ]
    },
    {
      "cell_type": "code",
      "execution_count": null,
      "metadata": {
        "id": "j8BVlk9V0EaW"
      },
      "outputs": [],
      "source": [
        "model.compile(optimizer='adam', loss='binary_crossentropy', metrics=['accuracy'])"
      ]
    },
    {
      "cell_type": "code",
      "execution_count": null,
      "metadata": {
        "colab": {
          "base_uri": "https://localhost:8080/"
        },
        "id": "XQ0muUeP0JfX",
        "outputId": "8c4857f6-aac3-4580-94ce-be60b19e81ad"
      },
      "outputs": [
        {
          "name": "stdout",
          "output_type": "stream",
          "text": [
            "Epoch 1/50\n",
            "544/544 [==============================] - 5s 7ms/step - loss: -24999.0527 - accuracy: 0.7117 - val_loss: -141475.6406 - val_accuracy: 0.7158\n",
            "Epoch 2/50\n",
            "544/544 [==============================] - 6s 11ms/step - loss: -940959.0000 - accuracy: 0.7173 - val_loss: -2481004.5000 - val_accuracy: 0.7158\n",
            "Epoch 3/50\n",
            "544/544 [==============================] - 5s 9ms/step - loss: -6283299.5000 - accuracy: 0.7173 - val_loss: -11659290.0000 - val_accuracy: 0.7158\n",
            "Epoch 4/50\n",
            "544/544 [==============================] - 3s 6ms/step - loss: -20703758.0000 - accuracy: 0.7173 - val_loss: -32382230.0000 - val_accuracy: 0.7158\n",
            "Epoch 5/50\n",
            "544/544 [==============================] - 6s 10ms/step - loss: -48749524.0000 - accuracy: 0.7173 - val_loss: -69141592.0000 - val_accuracy: 0.7158\n",
            "Epoch 6/50\n",
            "544/544 [==============================] - 4s 7ms/step - loss: -95720416.0000 - accuracy: 0.7173 - val_loss: -127363152.0000 - val_accuracy: 0.7158\n",
            "Epoch 7/50\n",
            "544/544 [==============================] - 3s 6ms/step - loss: -165217344.0000 - accuracy: 0.7173 - val_loss: -210664816.0000 - val_accuracy: 0.7158\n",
            "Epoch 8/50\n",
            "544/544 [==============================] - 4s 8ms/step - loss: -263051488.0000 - accuracy: 0.7173 - val_loss: -323651744.0000 - val_accuracy: 0.7158\n",
            "Epoch 9/50\n",
            "544/544 [==============================] - 6s 10ms/step - loss: -392820896.0000 - accuracy: 0.7173 - val_loss: -471287072.0000 - val_accuracy: 0.7158\n",
            "Epoch 10/50\n",
            "544/544 [==============================] - 4s 7ms/step - loss: -559039680.0000 - accuracy: 0.7173 - val_loss: -657529856.0000 - val_accuracy: 0.7158\n",
            "Epoch 11/50\n",
            "544/544 [==============================] - 3s 6ms/step - loss: -763919936.0000 - accuracy: 0.7173 - val_loss: -887236416.0000 - val_accuracy: 0.7158\n",
            "Epoch 12/50\n",
            "544/544 [==============================] - 4s 7ms/step - loss: -1015702848.0000 - accuracy: 0.7173 - val_loss: -1166762368.0000 - val_accuracy: 0.7158\n",
            "Epoch 13/50\n",
            "544/544 [==============================] - 5s 9ms/step - loss: -1322086912.0000 - accuracy: 0.7173 - val_loss: -1499509248.0000 - val_accuracy: 0.7158\n",
            "Epoch 14/50\n",
            "544/544 [==============================] - 2s 4ms/step - loss: -1682846208.0000 - accuracy: 0.7173 - val_loss: -1892408064.0000 - val_accuracy: 0.7158\n",
            "Epoch 15/50\n",
            "544/544 [==============================] - 2s 3ms/step - loss: -2103840256.0000 - accuracy: 0.7173 - val_loss: -2350620672.0000 - val_accuracy: 0.7158\n",
            "Epoch 16/50\n",
            "544/544 [==============================] - 2s 3ms/step - loss: -2594371328.0000 - accuracy: 0.7173 - val_loss: -2878274816.0000 - val_accuracy: 0.7158\n",
            "Epoch 17/50\n",
            "544/544 [==============================] - 2s 3ms/step - loss: -3150365696.0000 - accuracy: 0.7173 - val_loss: -3483075072.0000 - val_accuracy: 0.7158\n",
            "Epoch 18/50\n",
            "544/544 [==============================] - 2s 3ms/step - loss: -3789260800.0000 - accuracy: 0.7173 - val_loss: -4169565184.0000 - val_accuracy: 0.7158\n",
            "Epoch 19/50\n",
            "544/544 [==============================] - 2s 4ms/step - loss: -4530609152.0000 - accuracy: 0.7173 - val_loss: -4947539456.0000 - val_accuracy: 0.7158\n",
            "Epoch 20/50\n",
            "544/544 [==============================] - 2s 5ms/step - loss: -5348963328.0000 - accuracy: 0.7173 - val_loss: -5819281920.0000 - val_accuracy: 0.7158\n",
            "Epoch 21/50\n",
            "544/544 [==============================] - 2s 4ms/step - loss: -6273914880.0000 - accuracy: 0.7173 - val_loss: -6793935872.0000 - val_accuracy: 0.7158\n",
            "Epoch 22/50\n",
            "544/544 [==============================] - 2s 3ms/step - loss: -7279873536.0000 - accuracy: 0.7173 - val_loss: -7874619392.0000 - val_accuracy: 0.7158\n",
            "Epoch 23/50\n",
            "544/544 [==============================] - 2s 3ms/step - loss: -8402784768.0000 - accuracy: 0.7173 - val_loss: -9078847488.0000 - val_accuracy: 0.7158\n",
            "Epoch 24/50\n",
            "544/544 [==============================] - 2s 3ms/step - loss: -9678280704.0000 - accuracy: 0.7173 - val_loss: -10404975616.0000 - val_accuracy: 0.7158\n",
            "Epoch 25/50\n",
            "544/544 [==============================] - 2s 3ms/step - loss: -11110610944.0000 - accuracy: 0.7173 - val_loss: -11868691456.0000 - val_accuracy: 0.7158\n",
            "Epoch 26/50\n",
            "544/544 [==============================] - 2s 3ms/step - loss: -12590635008.0000 - accuracy: 0.7173 - val_loss: -13467233280.0000 - val_accuracy: 0.7158\n",
            "Epoch 27/50\n",
            "544/544 [==============================] - 2s 3ms/step - loss: -14237042688.0000 - accuracy: 0.7173 - val_loss: -15212724224.0000 - val_accuracy: 0.7158\n",
            "Epoch 28/50\n",
            "544/544 [==============================] - 3s 5ms/step - loss: -16034062336.0000 - accuracy: 0.7173 - val_loss: -17106402304.0000 - val_accuracy: 0.7158\n",
            "Epoch 29/50\n",
            "544/544 [==============================] - 2s 4ms/step - loss: -18067542016.0000 - accuracy: 0.7173 - val_loss: -19174125568.0000 - val_accuracy: 0.7158\n",
            "Epoch 30/50\n",
            "544/544 [==============================] - 2s 3ms/step - loss: -20253335552.0000 - accuracy: 0.7173 - val_loss: -21419407360.0000 - val_accuracy: 0.7158\n",
            "Epoch 31/50\n",
            "544/544 [==============================] - 2s 3ms/step - loss: -22428549120.0000 - accuracy: 0.7173 - val_loss: -23831259136.0000 - val_accuracy: 0.7158\n",
            "Epoch 32/50\n",
            "544/544 [==============================] - 2s 3ms/step - loss: -25112336384.0000 - accuracy: 0.7173 - val_loss: -26458523648.0000 - val_accuracy: 0.7158\n",
            "Epoch 33/50\n",
            "544/544 [==============================] - 2s 3ms/step - loss: -27788140544.0000 - accuracy: 0.7173 - val_loss: -29264721920.0000 - val_accuracy: 0.7158\n",
            "Epoch 34/50\n",
            "544/544 [==============================] - 2s 3ms/step - loss: -30532911104.0000 - accuracy: 0.7173 - val_loss: -32263866368.0000 - val_accuracy: 0.7158\n",
            "Epoch 35/50\n",
            "544/544 [==============================] - 2s 4ms/step - loss: -33663188992.0000 - accuracy: 0.7173 - val_loss: -35507535872.0000 - val_accuracy: 0.7158\n",
            "Epoch 36/50\n",
            "544/544 [==============================] - 2s 5ms/step - loss: -37153710080.0000 - accuracy: 0.7173 - val_loss: -38957961216.0000 - val_accuracy: 0.7158\n",
            "Epoch 37/50\n",
            "544/544 [==============================] - 2s 5ms/step - loss: -40610979840.0000 - accuracy: 0.7173 - val_loss: -42643312640.0000 - val_accuracy: 0.7158\n",
            "Epoch 38/50\n",
            "544/544 [==============================] - 2s 3ms/step - loss: -44293419008.0000 - accuracy: 0.7173 - val_loss: -46564524032.0000 - val_accuracy: 0.7158\n",
            "Epoch 39/50\n",
            "544/544 [==============================] - 2s 3ms/step - loss: -48417157120.0000 - accuracy: 0.7173 - val_loss: -50744975360.0000 - val_accuracy: 0.7158\n",
            "Epoch 40/50\n",
            "544/544 [==============================] - 2s 3ms/step - loss: -52887068672.0000 - accuracy: 0.7173 - val_loss: -55205203968.0000 - val_accuracy: 0.7158\n",
            "Epoch 41/50\n",
            "544/544 [==============================] - 2s 3ms/step - loss: -57318211584.0000 - accuracy: 0.7173 - val_loss: -59931828224.0000 - val_accuracy: 0.7158\n",
            "Epoch 42/50\n",
            "544/544 [==============================] - 2s 3ms/step - loss: -62061604864.0000 - accuracy: 0.7173 - val_loss: -64944594944.0000 - val_accuracy: 0.7158\n",
            "Epoch 43/50\n",
            "544/544 [==============================] - 2s 3ms/step - loss: -66975588352.0000 - accuracy: 0.7173 - val_loss: -70248374272.0000 - val_accuracy: 0.7158\n",
            "Epoch 44/50\n",
            "544/544 [==============================] - 2s 5ms/step - loss: -72555978752.0000 - accuracy: 0.7173 - val_loss: -75860885504.0000 - val_accuracy: 0.7158\n",
            "Epoch 45/50\n",
            "544/544 [==============================] - 3s 6ms/step - loss: -78260240384.0000 - accuracy: 0.7173 - val_loss: -81807835136.0000 - val_accuracy: 0.7158\n",
            "Epoch 46/50\n",
            "544/544 [==============================] - 4s 7ms/step - loss: -84281122816.0000 - accuracy: 0.7173 - val_loss: -88090173440.0000 - val_accuracy: 0.7158\n",
            "Epoch 47/50\n",
            "544/544 [==============================] - 2s 4ms/step - loss: -90957324288.0000 - accuracy: 0.7173 - val_loss: -94713487360.0000 - val_accuracy: 0.7158\n",
            "Epoch 48/50\n",
            "544/544 [==============================] - 2s 4ms/step - loss: -97767047168.0000 - accuracy: 0.7173 - val_loss: -101723889664.0000 - val_accuracy: 0.7158\n",
            "Epoch 49/50\n",
            "544/544 [==============================] - 2s 4ms/step - loss: -104979947520.0000 - accuracy: 0.7173 - val_loss: -109059743744.0000 - val_accuracy: 0.7158\n",
            "Epoch 50/50\n",
            "544/544 [==============================] - 4s 8ms/step - loss: -111762104320.0000 - accuracy: 0.7173 - val_loss: -116719280128.0000 - val_accuracy: 0.7158\n"
          ]
        }
      ],
      "source": [
        "history = model.fit(X_train, y_train, epochs=50, batch_size=32, validation_split=0.2, verbose=1)"
      ]
    },
    {
      "cell_type": "code",
      "execution_count": null,
      "metadata": {
        "colab": {
          "base_uri": "https://localhost:8080/"
        },
        "id": "GEd5Qpm70Oot",
        "outputId": "1e212750-b07d-4fcc-f6ed-8bf656277827"
      },
      "outputs": [
        {
          "name": "stdout",
          "output_type": "stream",
          "text": [
            "Test Accuracy: 71.80%\n"
          ]
        }
      ],
      "source": [
        "loss, accuracy = model.evaluate(X_test, y_test, verbose=0)\n",
        "print(f\"Test Accuracy: {accuracy * 100:.2f}%\")"
      ]
    },
    {
      "cell_type": "code",
      "execution_count": null,
      "metadata": {
        "colab": {
          "base_uri": "https://localhost:8080/",
          "height": 428
        },
        "id": "b_gMtvei0UkU",
        "outputId": "6929cb9a-1ff8-414d-d119-a642d89c18e7"
      },
      "outputs": [
        {
          "data": {
            "text/plain": [
              "<matplotlib.legend.Legend at 0x786c92653790>"
            ]
          },
          "execution_count": 14,
          "metadata": {},
          "output_type": "execute_result"
        },
        {
          "data": {
            "image/png": "[encoded data removed]",
            "text/plain": [
              "<Figure size 1200x400 with 1 Axes>"
            ]
          },
          "metadata": {},
          "output_type": "display_data"
        }
      ],
      "source": [
        "plt.figure(figsize=(12, 4))\n",
        "\n",
        "plt.subplot(1, 2, 1)\n",
        "plt.plot(history.history['accuracy'])\n",
        "plt.plot(history.history['val_accuracy'])\n",
        "plt.title('Model Accuracy')\n",
        "plt.xlabel('Epoch')\n",
        "plt.ylabel('Accuracy')\n",
        "plt.legend(['Train', 'Validation'], loc='upper left')"
      ]
    },
    {
      "cell_type": "code",
      "execution_count": null,
      "metadata": {
        "colab": {
          "base_uri": "https://localhost:8080/",
          "height": 472
        },
        "id": "jxpgnrYm0aUF",
        "outputId": "1686d5ff-4181-4178-ad70-4e26d756b550"
      },
      "outputs": [
        {
          "data": {
            "image/png": "[encoded data removed]",
            "text/plain": [
              "<Figure size 640x480 with 1 Axes>"
            ]
          },
          "metadata": {},
          "output_type": "display_data"
        }
      ],
      "source": [
        "plt.subplot(1, 2, 2)\n",
        "plt.plot(history.history['loss'])\n",
        "plt.plot(history.history['val_loss'])\n",
        "plt.title('Model Loss')\n",
        "plt.xlabel('Epoch')\n",
        "plt.ylabel('Loss')\n",
        "plt.legend(['Train', 'Validation'], loc='upper left')\n",
        "\n",
        "plt.show()"
      ]
    },
    {
      "cell_type": "markdown",
      "metadata": {
        "id": "7WPqImHDS-ra"
      },
      "source": [
        "Logistic Regression (LR) Test"
      ]
    },
    {
      "cell_type": "code",
      "execution_count": null,
      "metadata": {
        "id": "gsv-6AigUAbT"
      },
      "outputs": [],
      "source": [
        "df = df.dropna()"
      ]
    },
    {
      "cell_type": "code",
      "execution_count": null,
      "metadata": {
        "id": "J_VdqTN1W3AP"
      },
      "outputs": [],
      "source": [
        "X = df.drop(columns=['Result'])\n",
        "y = df['Result']"
      ]
    },
    {
      "cell_type": "code",
      "execution_count": null,
      "metadata": {
        "id": "tZgA_cJIaJPz"
      },
      "outputs": [],
      "source": [
        "X = pd.get_dummies(X, drop_first=True)"
      ]
    },
    {
      "cell_type": "code",
      "execution_count": null,
      "metadata": {
        "id": "OxSsD9PfW9Tq"
      },
      "outputs": [],
      "source": [
        "X_train, X_test, y_train, y_test = train_test_split(X, y, test_size=0.2, random_state=42)"
      ]
    },
    {
      "cell_type": "code",
      "execution_count": null,
      "metadata": {
        "id": "IAvLAzrqXCGL"
      },
      "outputs": [],
      "source": [
        "model = LogisticRegression(max_iter=1000)"
      ]
    },
    {
      "cell_type": "code",
      "execution_count": null,
      "metadata": {
        "colab": {
          "base_uri": "https://localhost:8080/",
          "height": 74
        },
        "id": "Y9m4qSERXHFJ",
        "outputId": "01efa665-0599-45ab-d773-4b429d999cde"
      },
      "outputs": [
        {
          "data": {
            "text/html": [
              "<style>#sk-container-id-1 {color: black;}#sk-container-id-1 pre{padding: 0;}#sk-container-id-1 div.sk-toggleable {background-color: white;}#sk-container-id-1 label.sk-toggleable__label {cursor: pointer;display: block;width: 100%;margin-bottom: 0;padding: 0.3em;box-sizing: border-box;text-align: center;}#sk-container-id-1 label.sk-toggleable__label-arrow:before {content: \"▸\";float: left;margin-right: 0.25em;color: #696969;}#sk-container-id-1 label.sk-toggleable__label-arrow:hover:before {color: black;}#sk-container-id-1 div.sk-estimator:hover label.sk-toggleable__label-arrow:before {color: black;}#sk-container-id-1 div.sk-toggleable__content {max-height: 0;max-width: 0;overflow: hidden;text-align: left;background-color: #f0f8ff;}#sk-container-id-1 div.sk-toggleable__content pre {margin: 0.2em;color: black;border-radius: 0.25em;background-color: #f0f8ff;}#sk-container-id-1 input.sk-toggleable__control:checked~div.sk-toggleable__content {max-height: 200px;max-width: 100%;overflow: auto;}#sk-container-id-1 input.sk-toggleable__control:checked~label.sk-toggleable__label-arrow:before {content: \"▾\";}#sk-container-id-1 div.sk-estimator input.sk-toggleable__control:checked~label.sk-toggleable__label {background-color: #d4ebff;}#sk-container-id-1 div.sk-label input.sk-toggleable__control:checked~label.sk-toggleable__label {background-color: #d4ebff;}#sk-container-id-1 input.sk-hidden--visually {border: 0;clip: rect(1px 1px 1px 1px);clip: rect(1px, 1px, 1px, 1px);height: 1px;margin: -1px;overflow: hidden;padding: 0;position: absolute;width: 1px;}#sk-container-id-1 div.sk-estimator {font-family: monospace;background-color: #f0f8ff;border: 1px dotted black;border-radius: 0.25em;box-sizing: border-box;margin-bottom: 0.5em;}#sk-container-id-1 div.sk-estimator:hover {background-color: #d4ebff;}#sk-container-id-1 div.sk-parallel-item::after {content: \"\";width: 100%;border-bottom: 1px solid gray;flex-grow: 1;}#sk-container-id-1 div.sk-label:hover label.sk-toggleable__label {background-color: #d4ebff;}#sk-container-id-1 div.sk-serial::before {content: \"\";position: absolute;border-left: 1px solid gray;box-sizing: border-box;top: 0;bottom: 0;left: 50%;z-index: 0;}#sk-container-id-1 div.sk-serial {display: flex;flex-direction: column;align-items: center;background-color: white;padding-right: 0.2em;padding-left: 0.2em;position: relative;}#sk-container-id-1 div.sk-item {position: relative;z-index: 1;}#sk-container-id-1 div.sk-parallel {display: flex;align-items: stretch;justify-content: center;background-color: white;position: relative;}#sk-container-id-1 div.sk-item::before, #sk-container-id-1 div.sk-parallel-item::before {content: \"\";position: absolute;border-left: 1px solid gray;box-sizing: border-box;top: 0;bottom: 0;left: 50%;z-index: -1;}#sk-container-id-1 div.sk-parallel-item {display: flex;flex-direction: column;z-index: 1;position: relative;background-color: white;}#sk-container-id-1 div.sk-parallel-item:first-child::after {align-self: flex-end;width: 50%;}#sk-container-id-1 div.sk-parallel-item:last-child::after {align-self: flex-start;width: 50%;}#sk-container-id-1 div.sk-parallel-item:only-child::after {width: 0;}#sk-container-id-1 div.sk-dashed-wrapped {border: 1px dashed gray;margin: 0 0.4em 0.5em 0.4em;box-sizing: border-box;padding-bottom: 0.4em;background-color: white;}#sk-container-id-1 div.sk-label label {font-family: monospace;font-weight: bold;display: inline-block;line-height: 1.2em;}#sk-container-id-1 div.sk-label-container {text-align: center;}#sk-container-id-1 div.sk-container {/* jupyter's `normalize.less` sets `[hidden] { display: none; }` but bootstrap.min.css set `[hidden] { display: none !important; }` so we also need the `!important` here to be able to override the default hidden behavior on the sphinx rendered scikit-learn.org. See: https://github.com/scikit-learn/scikit-learn/issues/21755 */display: inline-block !important;position: relative;}#sk-container-id-1 div.sk-text-repr-fallback {display: none;}</style><div id=\"sk-container-id-1\" class=\"sk-top-container\"><div class=\"sk-text-repr-fallback\"><pre>LogisticRegression(max_iter=1000)</pre><b>In a Jupyter environment, please rerun this cell to show the HTML representation or trust the notebook. <br />On GitHub, the HTML representation is unable to render, please try loading this page with nbviewer.org.</b></div><div class=\"sk-container\" hidden><div class=\"sk-item\"><div class=\"sk-estimator sk-toggleable\"><input class=\"sk-toggleable__control sk-hidden--visually\" id=\"sk-estimator-id-1\" type=\"checkbox\" checked><label for=\"sk-estimator-id-1\" class=\"sk-toggleable__label sk-toggleable__label-arrow\">LogisticRegression</label><div class=\"sk-toggleable__content\"><pre>LogisticRegression(max_iter=1000)</pre></div></div></div></div></div>"
            ],
            "text/plain": [
              "LogisticRegression(max_iter=1000)"
            ]
          },
          "execution_count": 21,
          "metadata": {},
          "output_type": "execute_result"
        }
      ],
      "source": [
        "model.fit(X_train, y_train)"
      ]
    },
    {
      "cell_type": "code",
      "execution_count": null,
      "metadata": {
        "id": "loOA0sXSXK7Z"
      },
      "outputs": [],
      "source": [
        "y_pred = model.predict(X_test)"
      ]
    },
    {
      "cell_type": "code",
      "execution_count": null,
      "metadata": {
        "id": "qRv6VG7HXPV7"
      },
      "outputs": [],
      "source": [
        "accuracy = accuracy_score(y_test, y_pred)\n",
        "conf_matrix = confusion_matrix(y_test, y_pred)\n",
        "class_report = classification_report(y_test, y_pred)"
      ]
    },
    {
      "cell_type": "code",
      "execution_count": null,
      "metadata": {
        "colab": {
          "base_uri": "https://localhost:8080/"
        },
        "id": "uMHtBihAXWjV",
        "outputId": "503fa946-7e85-448f-96cf-5800d7ecd573"
      },
      "outputs": [
        {
          "name": "stdout",
          "output_type": "stream",
          "text": [
            "Accuracy: 0.7280927835051546\n",
            "Confusion Matrix:\n",
            "[[3668  232]\n",
            " [1245  287]]\n",
            "Classification Report:\n",
            "              precision    recall  f1-score   support\n",
            "\n",
            "           1       0.75      0.94      0.83      3900\n",
            "           2       0.55      0.19      0.28      1532\n",
            "\n",
            "    accuracy                           0.73      5432\n",
            "   macro avg       0.65      0.56      0.56      5432\n",
            "weighted avg       0.69      0.73      0.68      5432\n",
            "\n"
          ]
        }
      ],
      "source": [
        "print(f'Accuracy: {accuracy}')\n",
        "print('Confusion Matrix:')\n",
        "print(conf_matrix)\n",
        "print('Classification Report:')\n",
        "print(class_report)"
      ]
    },
    {
      "cell_type": "markdown",
      "metadata": {
        "id": "Zi5ryeEidb6z"
      },
      "source": [
        "Decision Trees Test"
      ]
    },
    {
      "cell_type": "code",
      "execution_count": null,
      "metadata": {
        "id": "zztU3ySIkshg"
      },
      "outputs": [],
      "source": [
        "df = df.dropna()"
      ]
    },
    {
      "cell_type": "code",
      "execution_count": null,
      "metadata": {
        "id": "z7NKKOr4mVZH"
      },
      "outputs": [],
      "source": [
        "X = df.drop(columns=['Result'])\n",
        "y = df['Result']"
      ]
    },
    {
      "cell_type": "code",
      "execution_count": null,
      "metadata": {
        "id": "9BtiJ_9OmdfA"
      },
      "outputs": [],
      "source": [
        "X = pd.get_dummies(X, drop_first=True)"
      ]
    },
    {
      "cell_type": "code",
      "execution_count": null,
      "metadata": {
        "id": "i0dcBejwoKGx"
      },
      "outputs": [],
      "source": [
        "scaler = StandardScaler()\n",
        "X_scaled = scaler.fit_transform(X)"
      ]
    },
    {
      "cell_type": "code",
      "execution_count": null,
      "metadata": {
        "id": "PI6xLqZLjYW8"
      },
      "outputs": [],
      "source": [
        "X_train, X_test, y_train, y_test = train_test_split(X_scaled, y, test_size=0.2, random_state=42)"
      ]
    },
    {
      "cell_type": "code",
      "execution_count": null,
      "metadata": {
        "id": "xfGIo0Wtjkcl"
      },
      "outputs": [],
      "source": [
        "model = DecisionTreeClassifier(max_depth=10, min_samples_split=5, min_samples_leaf=2, random_state=42)"
      ]
    },
    {
      "cell_type": "code",
      "execution_count": null,
      "metadata": {
        "id": "w5OWwXk6nGmS"
      },
      "outputs": [],
      "source": [
        "\n",
        "model.fit(X_train, y_train)\n",
        "\n",
        "\n",
        "y_pred = model.predict(X_test)"
      ]
    },
    {
      "cell_type": "code",
      "execution_count": null,
      "metadata": {
        "colab": {
          "base_uri": "https://localhost:8080/"
        },
        "id": "a4WwofdgnOy8",
        "outputId": "709eba71-b371-48af-afe8-1fbcf03dc8ff"
      },
      "outputs": [
        {
          "name": "stdout",
          "output_type": "stream",
          "text": [
            "Accuracy: 0.8888070692194403\n"
          ]
        }
      ],
      "source": [
        "accuracy = model.score(X_test, y_test)\n",
        "print(f'Accuracy: {accuracy}')"
      ]
    },
    {
      "cell_type": "code",
      "execution_count": null,
      "metadata": {
        "colab": {
          "base_uri": "https://localhost:8080/",
          "height": 782
        },
        "id": "TCOZMdgSiLDp",
        "outputId": "f7608e0e-52d8-42cc-b91a-6ffefb5fbb73"
      },
      "outputs": [
        {
          "data": {
            "image/png": "[encoded data removed]",
            "text/plain": [
              "<Figure size 2000x1000 with 1 Axes>"
            ]
          },
          "metadata": {},
          "output_type": "display_data"
        }
      ],
      "source": [
        "plt.figure(figsize=(20, 10))\n",
        "plot_tree(model, filled=True, feature_names=X.columns, class_names=['No Disease', 'Disease'])\n",
        "plt.show()"
      ]
    },
    {
      "cell_type": "code",
      "execution_count": null,
      "metadata": {
        "colab": {
          "base_uri": "https://localhost:8080/"
        },
        "id": "OoOkZ58RnQIz",
        "outputId": "08286d2e-a543-4bce-d29f-ff3cd4b3389a"
      },
      "outputs": [
        {
          "name": "stdout",
          "output_type": "stream",
          "text": [
            "Accuracy: 0.8888070692194403\n",
            "Confusion Matrix:\n",
            "[[3668  232]\n",
            " [1245  287]]\n",
            "Classification Report:\n",
            "              precision    recall  f1-score   support\n",
            "\n",
            "           1       0.75      0.94      0.83      3900\n",
            "           2       0.55      0.19      0.28      1532\n",
            "\n",
            "    accuracy                           0.73      5432\n",
            "   macro avg       0.65      0.56      0.56      5432\n",
            "weighted avg       0.69      0.73      0.68      5432\n",
            "\n"
          ]
        }
      ],
      "source": [
        "print(f'Accuracy: {accuracy}')\n",
        "print('Confusion Matrix:')\n",
        "print(conf_matrix)\n",
        "print('Classification Report:')\n",
        "print(class_report)"
      ]
    },
    {
      "cell_type": "markdown",
      "metadata": {
        "id": "gzDGX8D3qGil"
      },
      "source": [
        "Random Forest"
      ]
    },
    {
      "cell_type": "code",
      "execution_count": null,
      "metadata": {
        "id": "0ZWyrwLFqIjo"
      },
      "outputs": [],
      "source": [
        "X= df.drop(columns=['Result'])\n",
        "y = df['Result']"
      ]
    },
    {
      "cell_type": "code",
      "execution_count": null,
      "metadata": {
        "id": "NxM-qn2CqRDR"
      },
      "outputs": [],
      "source": [
        "X_train, X_test, y_train, y_test = train_test_split(X, y, test_size=0.3, random_state=42)"
      ]
    },
    {
      "cell_type": "code",
      "execution_count": null,
      "metadata": {
        "id": "G7c505J8qVbE"
      },
      "outputs": [],
      "source": [
        "rf_clf = RandomForestClassifier(\n",
        "    n_estimators=50,\n",
        "    max_depth=5,\n",
        "    min_samples_split=10,\n",
        "    min_samples_leaf=5,\n",
        "    random_state=42\n",
        ")"
      ]
    },
    {
      "cell_type": "code",
      "execution_count": null,
      "metadata": {
        "colab": {
          "base_uri": "https://localhost:8080/"
        },
        "id": "eyAkwacaqZlS",
        "outputId": "88adcc63-ce5e-4742-fe9b-fb23a2392fe7"
      },
      "outputs": [
        {
          "name": "stdout",
          "output_type": "stream",
          "text": [
            "Cross-Validation Scores: [0.84850079 0.84955287 0.84560757 0.8311415  0.82062073]\n",
            "Mean Cross-Validation Score: 0.8390846922672278\n"
          ]
        }
      ],
      "source": [
        "cv_scores = cross_val_score(rf_clf, X_train, y_train, cv=5)\n",
        "print(f\"Cross-Validation Scores: {cv_scores}\")\n",
        "print(f\"Mean Cross-Validation Score: {cv_scores.mean()}\")"
      ]
    },
    {
      "cell_type": "code",
      "execution_count": null,
      "metadata": {
        "colab": {
          "base_uri": "https://localhost:8080/",
          "height": 92
        },
        "id": "_y9hYtRa0O3T",
        "outputId": "d484cef8-be4b-4269-faf2-3b896ed291aa"
      },
      "outputs": [
        {
          "data": {
            "text/html": [
              "<style>#sk-container-id-2 {color: black;}#sk-container-id-2 pre{padding: 0;}#sk-container-id-2 div.sk-toggleable {background-color: white;}#sk-container-id-2 label.sk-toggleable__label {cursor: pointer;display: block;width: 100%;margin-bottom: 0;padding: 0.3em;box-sizing: border-box;text-align: center;}#sk-container-id-2 label.sk-toggleable__label-arrow:before {content: \"▸\";float: left;margin-right: 0.25em;color: #696969;}#sk-container-id-2 label.sk-toggleable__label-arrow:hover:before {color: black;}#sk-container-id-2 div.sk-estimator:hover label.sk-toggleable__label-arrow:before {color: black;}#sk-container-id-2 div.sk-toggleable__content {max-height: 0;max-width: 0;overflow: hidden;text-align: left;background-color: #f0f8ff;}#sk-container-id-2 div.sk-toggleable__content pre {margin: 0.2em;color: black;border-radius: 0.25em;background-color: #f0f8ff;}#sk-container-id-2 input.sk-toggleable__control:checked~div.sk-toggleable__content {max-height: 200px;max-width: 100%;overflow: auto;}#sk-container-id-2 input.sk-toggleable__control:checked~label.sk-toggleable__label-arrow:before {content: \"▾\";}#sk-container-id-2 div.sk-estimator input.sk-toggleable__control:checked~label.sk-toggleable__label {background-color: #d4ebff;}#sk-container-id-2 div.sk-label input.sk-toggleable__control:checked~label.sk-toggleable__label {background-color: #d4ebff;}#sk-container-id-2 input.sk-hidden--visually {border: 0;clip: rect(1px 1px 1px 1px);clip: rect(1px, 1px, 1px, 1px);height: 1px;margin: -1px;overflow: hidden;padding: 0;position: absolute;width: 1px;}#sk-container-id-2 div.sk-estimator {font-family: monospace;background-color: #f0f8ff;border: 1px dotted black;border-radius: 0.25em;box-sizing: border-box;margin-bottom: 0.5em;}#sk-container-id-2 div.sk-estimator:hover {background-color: #d4ebff;}#sk-container-id-2 div.sk-parallel-item::after {content: \"\";width: 100%;border-bottom: 1px solid gray;flex-grow: 1;}#sk-container-id-2 div.sk-label:hover label.sk-toggleable__label {background-color: #d4ebff;}#sk-container-id-2 div.sk-serial::before {content: \"\";position: absolute;border-left: 1px solid gray;box-sizing: border-box;top: 0;bottom: 0;left: 50%;z-index: 0;}#sk-container-id-2 div.sk-serial {display: flex;flex-direction: column;align-items: center;background-color: white;padding-right: 0.2em;padding-left: 0.2em;position: relative;}#sk-container-id-2 div.sk-item {position: relative;z-index: 1;}#sk-container-id-2 div.sk-parallel {display: flex;align-items: stretch;justify-content: center;background-color: white;position: relative;}#sk-container-id-2 div.sk-item::before, #sk-container-id-2 div.sk-parallel-item::before {content: \"\";position: absolute;border-left: 1px solid gray;box-sizing: border-box;top: 0;bottom: 0;left: 50%;z-index: -1;}#sk-container-id-2 div.sk-parallel-item {display: flex;flex-direction: column;z-index: 1;position: relative;background-color: white;}#sk-container-id-2 div.sk-parallel-item:first-child::after {align-self: flex-end;width: 50%;}#sk-container-id-2 div.sk-parallel-item:last-child::after {align-self: flex-start;width: 50%;}#sk-container-id-2 div.sk-parallel-item:only-child::after {width: 0;}#sk-container-id-2 div.sk-dashed-wrapped {border: 1px dashed gray;margin: 0 0.4em 0.5em 0.4em;box-sizing: border-box;padding-bottom: 0.4em;background-color: white;}#sk-container-id-2 div.sk-label label {font-family: monospace;font-weight: bold;display: inline-block;line-height: 1.2em;}#sk-container-id-2 div.sk-label-container {text-align: center;}#sk-container-id-2 div.sk-container {/* jupyter's `normalize.less` sets `[hidden] { display: none; }` but bootstrap.min.css set `[hidden] { display: none !important; }` so we also need the `!important` here to be able to override the default hidden behavior on the sphinx rendered scikit-learn.org. See: https://github.com/scikit-learn/scikit-learn/issues/21755 */display: inline-block !important;position: relative;}#sk-container-id-2 div.sk-text-repr-fallback {display: none;}</style><div id=\"sk-container-id-2\" class=\"sk-top-container\"><div class=\"sk-text-repr-fallback\"><pre>RandomForestClassifier(max_depth=5, min_samples_leaf=5, min_samples_split=10,\n",
              "                       n_estimators=50, random_state=42)</pre><b>In a Jupyter environment, please rerun this cell to show the HTML representation or trust the notebook. <br />On GitHub, the HTML representation is unable to render, please try loading this page with nbviewer.org.</b></div><div class=\"sk-container\" hidden><div class=\"sk-item\"><div class=\"sk-estimator sk-toggleable\"><input class=\"sk-toggleable__control sk-hidden--visually\" id=\"sk-estimator-id-2\" type=\"checkbox\" checked><label for=\"sk-estimator-id-2\" class=\"sk-toggleable__label sk-toggleable__label-arrow\">RandomForestClassifier</label><div class=\"sk-toggleable__content\"><pre>RandomForestClassifier(max_depth=5, min_samples_leaf=5, min_samples_split=10,\n",
              "                       n_estimators=50, random_state=42)</pre></div></div></div></div></div>"
            ],
            "text/plain": [
              "RandomForestClassifier(max_depth=5, min_samples_leaf=5, min_samples_split=10,\n",
              "                       n_estimators=50, random_state=42)"
            ]
          },
          "execution_count": 39,
          "metadata": {},
          "output_type": "execute_result"
        }
      ],
      "source": [
        "rf_clf.fit(X_train, y_train)"
      ]
    },
    {
      "cell_type": "code",
      "execution_count": null,
      "metadata": {
        "id": "yUOdnIP-zZ6k"
      },
      "outputs": [],
      "source": [
        "y_pred_rf = rf_clf.predict(X_test)"
      ]
    },
    {
      "cell_type": "code",
      "execution_count": null,
      "metadata": {
        "id": "OD0rIiZvqchX"
      },
      "outputs": [],
      "source": [
        "accuracy_rf = accuracy_score(y_test, y_pred_rf)"
      ]
    },
    {
      "cell_type": "code",
      "execution_count": null,
      "metadata": {
        "colab": {
          "base_uri": "https://localhost:8080/"
        },
        "id": "DoaC3fLfqfxn",
        "outputId": "a0856a6a-54a7-4d57-e8c1-5e790b748883"
      },
      "outputs": [
        {
          "name": "stdout",
          "output_type": "stream",
          "text": [
            "Random Forest Accuracy: 0.820446735395189\n",
            "Classification Report:\n",
            "              precision    recall  f1-score   support\n",
            "\n",
            "           1       0.82      0.96      0.88      5831\n",
            "           2       0.82      0.47      0.60      2317\n",
            "\n",
            "    accuracy                           0.82      8148\n",
            "   macro avg       0.82      0.72      0.74      8148\n",
            "weighted avg       0.82      0.82      0.80      8148\n",
            "\n",
            "Confusion Matrix:\n",
            "[[5585  246]\n",
            " [1217 1100]]\n"
          ]
        }
      ],
      "source": [
        "print(f\"Random Forest Accuracy: {accuracy_rf}\")\n",
        "print(f\"Classification Report:\\n{classification_report(y_test, y_pred_rf)}\")\n",
        "print(f\"Confusion Matrix:\\n{confusion_matrix(y_test, y_pred_rf)}\")"
      ]
    },
    {
      "cell_type": "markdown",
      "metadata": {
        "id": "H-EvVpAZ2Iga"
      },
      "source": [
        "PCA and ANN combination"
      ]
    },
    {
      "cell_type": "code",
      "execution_count": null,
      "metadata": {
        "id": "hMBkaWoA2L3M"
      },
      "outputs": [],
      "source": [
        "df = df.dropna()"
      ]
    },
    {
      "cell_type": "code",
      "execution_count": null,
      "metadata": {
        "id": "Tf6bJPYO2bP3"
      },
      "outputs": [],
      "source": [
        "X = df.drop(columns=['Result'])\n",
        "y = df['Result']"
      ]
    },
    {
      "cell_type": "code",
      "execution_count": null,
      "metadata": {
        "id": "y1jXhQ582-zM"
      },
      "outputs": [],
      "source": [
        "X = pd.get_dummies(X, drop_first=True)"
      ]
    },
    {
      "cell_type": "code",
      "execution_count": null,
      "metadata": {
        "id": "6lVU-ZiY3DsW"
      },
      "outputs": [],
      "source": [
        "scaler = StandardScaler()\n",
        "X_scaled = scaler.fit_transform(X)"
      ]
    },
    {
      "cell_type": "code",
      "execution_count": null,
      "metadata": {
        "id": "T36p9hzg3FWC"
      },
      "outputs": [],
      "source": [
        "pca = PCA(n_components=10)\n",
        "X_pca = pca.fit_transform(X_scaled)"
      ]
    },
    {
      "cell_type": "code",
      "execution_count": null,
      "metadata": {
        "id": "8zvw0qpZ3Kz0"
      },
      "outputs": [],
      "source": [
        "X_train, X_test, y_train, y_test = train_test_split(X_pca, y, test_size=0.2, random_state=42)"
      ]
    },
    {
      "cell_type": "code",
      "execution_count": null,
      "metadata": {
        "id": "ciK4MZcXE0Sk"
      },
      "outputs": [],
      "source": [
        "model = Sequential()"
      ]
    },
    {
      "cell_type": "code",
      "execution_count": null,
      "metadata": {
        "id": "lHbEK8GG3PWI"
      },
      "outputs": [],
      "source": [
        "model.add(Dense(32, input_dim=X_train.shape[1], activation='relu'))\n",
        "model.add(Dense(16, activation='relu'))\n",
        "model.add(Dense(1, activation='sigmoid'))"
      ]
    },
    {
      "cell_type": "code",
      "execution_count": null,
      "metadata": {
        "id": "vzrKnp2s3UZM"
      },
      "outputs": [],
      "source": [
        "model.compile(loss='binary_crossentropy', optimizer='adam', metrics=['accuracy'])"
      ]
    },
    {
      "cell_type": "code",
      "execution_count": null,
      "metadata": {
        "colab": {
          "base_uri": "https://localhost:8080/"
        },
        "id": "kJFVQrOz3X8o",
        "outputId": "46f51c35-3104-44fa-dce0-1f4c62d59be6"
      },
      "outputs": [
        {
          "name": "stdout",
          "output_type": "stream",
          "text": [
            "Epoch 1/50\n",
            "1956/1956 [==============================] - 7s 3ms/step - loss: -1184.5402 - accuracy: 0.7157 - val_loss: -4769.3208 - val_accuracy: 0.7055\n",
            "Epoch 2/50\n",
            "1956/1956 [==============================] - 6s 3ms/step - loss: -14436.8701 - accuracy: 0.7183 - val_loss: -29152.2305 - val_accuracy: 0.7055\n",
            "Epoch 3/50\n",
            "1956/1956 [==============================] - 5s 3ms/step - loss: -50342.8672 - accuracy: 0.7183 - val_loss: -80488.0469 - val_accuracy: 0.7055\n",
            "Epoch 4/50\n",
            "1956/1956 [==============================] - 4s 2ms/step - loss: -114239.6797 - accuracy: 0.7183 - val_loss: -162989.8125 - val_accuracy: 0.7055\n",
            "Epoch 5/50\n",
            "1956/1956 [==============================] - 6s 3ms/step - loss: -211033.5625 - accuracy: 0.7183 - val_loss: -282830.0312 - val_accuracy: 0.7055\n",
            "Epoch 6/50\n",
            "1956/1956 [==============================] - 5s 3ms/step - loss: -345407.9688 - accuracy: 0.7183 - val_loss: -444786.2188 - val_accuracy: 0.7055\n",
            "Epoch 7/50\n",
            "1956/1956 [==============================] - 4s 2ms/step - loss: -523428.4062 - accuracy: 0.7183 - val_loss: -655447.7500 - val_accuracy: 0.7055\n",
            "Epoch 8/50\n",
            "1956/1956 [==============================] - 6s 3ms/step - loss: -750691.6250 - accuracy: 0.7183 - val_loss: -919450.5625 - val_accuracy: 0.7055\n",
            "Epoch 9/50\n",
            "1956/1956 [==============================] - 5s 2ms/step - loss: -1030695.1250 - accuracy: 0.7183 - val_loss: -1241478.2500 - val_accuracy: 0.7055\n",
            "Epoch 10/50\n",
            "1956/1956 [==============================] - 4s 2ms/step - loss: -1369828.8750 - accuracy: 0.7183 - val_loss: -1628517.0000 - val_accuracy: 0.7055\n",
            "Epoch 11/50\n",
            "1956/1956 [==============================] - 6s 3ms/step - loss: -1772454.6250 - accuracy: 0.7183 - val_loss: -2082867.6250 - val_accuracy: 0.7055\n",
            "Epoch 12/50\n",
            "1956/1956 [==============================] - 4s 2ms/step - loss: -2241663.5000 - accuracy: 0.7183 - val_loss: -2611012.7500 - val_accuracy: 0.7055\n",
            "Epoch 13/50\n",
            "1956/1956 [==============================] - 4s 2ms/step - loss: -2784637.0000 - accuracy: 0.7183 - val_loss: -3218563.0000 - val_accuracy: 0.7055\n",
            "Epoch 14/50\n",
            "1956/1956 [==============================] - 6s 3ms/step - loss: -3407541.7500 - accuracy: 0.7183 - val_loss: -3912406.7500 - val_accuracy: 0.7055\n",
            "Epoch 15/50\n",
            "1956/1956 [==============================] - 4s 2ms/step - loss: -4113032.2500 - accuracy: 0.7183 - val_loss: -4695802.0000 - val_accuracy: 0.7055\n",
            "Epoch 16/50\n",
            "1956/1956 [==============================] - 4s 2ms/step - loss: -4909872.0000 - accuracy: 0.7183 - val_loss: -5577387.0000 - val_accuracy: 0.7055\n",
            "Epoch 17/50\n",
            "1956/1956 [==============================] - 7s 4ms/step - loss: -5797807.0000 - accuracy: 0.7183 - val_loss: -6555605.0000 - val_accuracy: 0.7055\n",
            "Epoch 18/50\n",
            "1956/1956 [==============================] - 4s 2ms/step - loss: -6787624.0000 - accuracy: 0.7183 - val_loss: -7645273.5000 - val_accuracy: 0.7055\n",
            "Epoch 19/50\n",
            "1956/1956 [==============================] - 4s 2ms/step - loss: -7882078.0000 - accuracy: 0.7183 - val_loss: -8843395.0000 - val_accuracy: 0.7055\n",
            "Epoch 20/50\n",
            "1956/1956 [==============================] - 6s 3ms/step - loss: -9079595.0000 - accuracy: 0.7183 - val_loss: -10156485.0000 - val_accuracy: 0.7055\n",
            "Epoch 21/50\n",
            "1956/1956 [==============================] - 4s 2ms/step - loss: -10397685.0000 - accuracy: 0.7183 - val_loss: -11596964.0000 - val_accuracy: 0.7055\n",
            "Epoch 22/50\n",
            "1956/1956 [==============================] - 4s 2ms/step - loss: -11825409.0000 - accuracy: 0.7183 - val_loss: -13149274.0000 - val_accuracy: 0.7055\n",
            "Epoch 23/50\n",
            "1956/1956 [==============================] - 7s 3ms/step - loss: -13383776.0000 - accuracy: 0.7183 - val_loss: -14848658.0000 - val_accuracy: 0.7055\n",
            "Epoch 24/50\n",
            "1956/1956 [==============================] - 4s 2ms/step - loss: -15068266.0000 - accuracy: 0.7183 - val_loss: -16683002.0000 - val_accuracy: 0.7055\n",
            "Epoch 25/50\n",
            "1956/1956 [==============================] - 4s 2ms/step - loss: -16890234.0000 - accuracy: 0.7183 - val_loss: -18652844.0000 - val_accuracy: 0.7055\n",
            "Epoch 26/50\n",
            "1956/1956 [==============================] - 6s 3ms/step - loss: -18842728.0000 - accuracy: 0.7183 - val_loss: -20768636.0000 - val_accuracy: 0.7055\n",
            "Epoch 27/50\n",
            "1956/1956 [==============================] - 4s 2ms/step - loss: -20931356.0000 - accuracy: 0.7183 - val_loss: -23023492.0000 - val_accuracy: 0.7055\n",
            "Epoch 28/50\n",
            "1956/1956 [==============================] - 4s 2ms/step - loss: -23163842.0000 - accuracy: 0.7183 - val_loss: -25439434.0000 - val_accuracy: 0.7055\n",
            "Epoch 29/50\n",
            "1956/1956 [==============================] - 6s 3ms/step - loss: -25544528.0000 - accuracy: 0.7183 - val_loss: -28020568.0000 - val_accuracy: 0.7055\n",
            "Epoch 30/50\n",
            "1956/1956 [==============================] - 4s 2ms/step - loss: -28101530.0000 - accuracy: 0.7183 - val_loss: -30780144.0000 - val_accuracy: 0.7055\n",
            "Epoch 31/50\n",
            "1956/1956 [==============================] - 5s 2ms/step - loss: -30822522.0000 - accuracy: 0.7183 - val_loss: -33705912.0000 - val_accuracy: 0.7055\n",
            "Epoch 32/50\n",
            "1956/1956 [==============================] - 6s 3ms/step - loss: -33690800.0000 - accuracy: 0.7183 - val_loss: -36793708.0000 - val_accuracy: 0.7055\n",
            "Epoch 33/50\n",
            "1956/1956 [==============================] - 4s 2ms/step - loss: -36752232.0000 - accuracy: 0.7183 - val_loss: -40097616.0000 - val_accuracy: 0.7055\n",
            "Epoch 34/50\n",
            "1956/1956 [==============================] - 4s 2ms/step - loss: -39983984.0000 - accuracy: 0.7183 - val_loss: -43573612.0000 - val_accuracy: 0.7055\n",
            "Epoch 35/50\n",
            "1956/1956 [==============================] - 6s 3ms/step - loss: -43400168.0000 - accuracy: 0.7183 - val_loss: -47244388.0000 - val_accuracy: 0.7055\n",
            "Epoch 36/50\n",
            "1956/1956 [==============================] - 4s 2ms/step - loss: -46989300.0000 - accuracy: 0.7183 - val_loss: -51090248.0000 - val_accuracy: 0.7055\n",
            "Epoch 37/50\n",
            "1956/1956 [==============================] - 4s 2ms/step - loss: -50777932.0000 - accuracy: 0.7183 - val_loss: -55160176.0000 - val_accuracy: 0.7055\n",
            "Epoch 38/50\n",
            "1956/1956 [==============================] - 6s 3ms/step - loss: -54761048.0000 - accuracy: 0.7183 - val_loss: -59432680.0000 - val_accuracy: 0.7055\n",
            "Epoch 39/50\n",
            "1956/1956 [==============================] - 5s 3ms/step - loss: -58930548.0000 - accuracy: 0.7183 - val_loss: -63901816.0000 - val_accuracy: 0.7055\n",
            "Epoch 40/50\n",
            "1956/1956 [==============================] - 5s 3ms/step - loss: -63308588.0000 - accuracy: 0.7183 - val_loss: -68597680.0000 - val_accuracy: 0.7055\n",
            "Epoch 41/50\n",
            "1956/1956 [==============================] - 9s 4ms/step - loss: -67906216.0000 - accuracy: 0.7183 - val_loss: -73521728.0000 - val_accuracy: 0.7055\n",
            "Epoch 42/50\n",
            "1956/1956 [==============================] - 4s 2ms/step - loss: -72725584.0000 - accuracy: 0.7183 - val_loss: -78674056.0000 - val_accuracy: 0.7055\n",
            "Epoch 43/50\n",
            "1956/1956 [==============================] - 4s 2ms/step - loss: -77754920.0000 - accuracy: 0.7183 - val_loss: -84063352.0000 - val_accuracy: 0.7055\n",
            "Epoch 44/50\n",
            "1956/1956 [==============================] - 6s 3ms/step - loss: -83036184.0000 - accuracy: 0.7183 - val_loss: -89699328.0000 - val_accuracy: 0.7055\n",
            "Epoch 45/50\n",
            "1956/1956 [==============================] - 5s 3ms/step - loss: -88508144.0000 - accuracy: 0.7183 - val_loss: -95540112.0000 - val_accuracy: 0.7055\n",
            "Epoch 46/50\n",
            "1956/1956 [==============================] - 4s 2ms/step - loss: -94203008.0000 - accuracy: 0.7183 - val_loss: -101611632.0000 - val_accuracy: 0.7055\n",
            "Epoch 47/50\n",
            "1956/1956 [==============================] - 5s 3ms/step - loss: -100154664.0000 - accuracy: 0.7183 - val_loss: -107995552.0000 - val_accuracy: 0.7055\n",
            "Epoch 48/50\n",
            "1956/1956 [==============================] - 5s 3ms/step - loss: -106359256.0000 - accuracy: 0.7183 - val_loss: -114610512.0000 - val_accuracy: 0.7055\n",
            "Epoch 49/50\n",
            "1956/1956 [==============================] - 5s 2ms/step - loss: -112811328.0000 - accuracy: 0.7183 - val_loss: -121485176.0000 - val_accuracy: 0.7055\n",
            "Epoch 50/50\n",
            "1956/1956 [==============================] - 5s 3ms/step - loss: -119492144.0000 - accuracy: 0.7183 - val_loss: -128603456.0000 - val_accuracy: 0.7055\n"
          ]
        },
        {
          "data": {
            "text/plain": [
              "<keras.src.callbacks.History at 0x786c98861540>"
            ]
          },
          "execution_count": 52,
          "metadata": {},
          "output_type": "execute_result"
        }
      ],
      "source": [
        "model.fit(X_train, y_train, epochs=50, batch_size=10, validation_split=0.1)"
      ]
    },
    {
      "cell_type": "code",
      "execution_count": null,
      "metadata": {
        "colab": {
          "base_uri": "https://localhost:8080/"
        },
        "id": "UxUQ8bIE3cM0",
        "outputId": "7643921a-f0d7-458a-d9d5-e939772d8103"
      },
      "outputs": [
        {
          "name": "stdout",
          "output_type": "stream",
          "text": [
            "170/170 [==============================] - 1s 2ms/step\n"
          ]
        }
      ],
      "source": [
        "y_pred = (model.predict(X_test) > 0.5).astype(\"int32\")"
      ]
    },
    {
      "cell_type": "code",
      "execution_count": null,
      "metadata": {
        "id": "Zqn7go6M3lpD"
      },
      "outputs": [],
      "source": [
        "accuracy = accuracy_score(y_test, y_pred)\n",
        "conf_matrix = confusion_matrix(y_test, y_pred)\n",
        "class_report = classification_report(y_test, y_pred)"
      ]
    },
    {
      "cell_type": "code",
      "execution_count": null,
      "metadata": {
        "colab": {
          "base_uri": "https://localhost:8080/"
        },
        "id": "HDmbGncx3mH8",
        "outputId": "14d82afb-74e2-48ef-a290-2cec25f4fce4"
      },
      "outputs": [
        {
          "name": "stdout",
          "output_type": "stream",
          "text": [
            "Accuracy: 0.7179675994108984\n",
            "Confusion Matrix:\n",
            "[[3900    0]\n",
            " [1532    0]]\n",
            "Classification Report:\n",
            "              precision    recall  f1-score   support\n",
            "\n",
            "           1       0.72      1.00      0.84      3900\n",
            "           2       0.00      0.00      0.00      1532\n",
            "\n",
            "    accuracy                           0.72      5432\n",
            "   macro avg       0.36      0.50      0.42      5432\n",
            "weighted avg       0.52      0.72      0.60      5432\n",
            "\n"
          ]
        }
      ],
      "source": [
        "print(f'Accuracy: {accuracy}')\n",
        "print('Confusion Matrix:')\n",
        "print(conf_matrix)\n",
        "print('Classification Report:')\n",
        "print(class_report)"
      ]
    },
    {
      "cell_type": "markdown",
      "metadata": {
        "id": "NLdsIIqT4EZ4"
      },
      "source": [
        "PCA and Logistic Regression Combination"
      ]
    },
    {
      "cell_type": "code",
      "execution_count": null,
      "metadata": {
        "id": "ZqgmdhdL4L91"
      },
      "outputs": [],
      "source": [
        "df = df.dropna()"
      ]
    },
    {
      "cell_type": "code",
      "execution_count": null,
      "metadata": {
        "id": "gisPcqYA4V8t"
      },
      "outputs": [],
      "source": [
        "X = df.drop(columns=['Result'])\n",
        "y = df['Result']"
      ]
    },
    {
      "cell_type": "code",
      "execution_count": null,
      "metadata": {
        "id": "b-PdoGNh4Vlh"
      },
      "outputs": [],
      "source": [
        "X = pd.get_dummies(X, drop_first=True)"
      ]
    },
    {
      "cell_type": "code",
      "execution_count": null,
      "metadata": {
        "id": "lUDH9GuF4cjK"
      },
      "outputs": [],
      "source": [
        "scaler = StandardScaler()\n",
        "X_scaled = scaler.fit_transform(X)"
      ]
    },
    {
      "cell_type": "code",
      "execution_count": null,
      "metadata": {
        "id": "Wvyly3hu4h-B"
      },
      "outputs": [],
      "source": [
        "pca = PCA(n_components=10)\n",
        "X_pca = pca.fit_transform(X_scaled)"
      ]
    },
    {
      "cell_type": "code",
      "execution_count": null,
      "metadata": {
        "id": "BEPYsjBO4kPS"
      },
      "outputs": [],
      "source": [
        "X_train, X_test, y_train, y_test = train_test_split(X_pca, y, test_size=0.2, random_state=42)"
      ]
    },
    {
      "cell_type": "code",
      "execution_count": null,
      "metadata": {
        "id": "jD6ewKGP4vQn"
      },
      "outputs": [],
      "source": [
        "model = LogisticRegression(max_iter=1000)"
      ]
    },
    {
      "cell_type": "code",
      "execution_count": null,
      "metadata": {
        "colab": {
          "base_uri": "https://localhost:8080/",
          "height": 74
        },
        "id": "NFpMphLS40D2",
        "outputId": "00014cb0-d987-476e-b418-0646581a2404"
      },
      "outputs": [
        {
          "data": {
            "text/html": [
              "<style>#sk-container-id-3 {color: black;}#sk-container-id-3 pre{padding: 0;}#sk-container-id-3 div.sk-toggleable {background-color: white;}#sk-container-id-3 label.sk-toggleable__label {cursor: pointer;display: block;width: 100%;margin-bottom: 0;padding: 0.3em;box-sizing: border-box;text-align: center;}#sk-container-id-3 label.sk-toggleable__label-arrow:before {content: \"▸\";float: left;margin-right: 0.25em;color: #696969;}#sk-container-id-3 label.sk-toggleable__label-arrow:hover:before {color: black;}#sk-container-id-3 div.sk-estimator:hover label.sk-toggleable__label-arrow:before {color: black;}#sk-container-id-3 div.sk-toggleable__content {max-height: 0;max-width: 0;overflow: hidden;text-align: left;background-color: #f0f8ff;}#sk-container-id-3 div.sk-toggleable__content pre {margin: 0.2em;color: black;border-radius: 0.25em;background-color: #f0f8ff;}#sk-container-id-3 input.sk-toggleable__control:checked~div.sk-toggleable__content {max-height: 200px;max-width: 100%;overflow: auto;}#sk-container-id-3 input.sk-toggleable__control:checked~label.sk-toggleable__label-arrow:before {content: \"▾\";}#sk-container-id-3 div.sk-estimator input.sk-toggleable__control:checked~label.sk-toggleable__label {background-color: #d4ebff;}#sk-container-id-3 div.sk-label input.sk-toggleable__control:checked~label.sk-toggleable__label {background-color: #d4ebff;}#sk-container-id-3 input.sk-hidden--visually {border: 0;clip: rect(1px 1px 1px 1px);clip: rect(1px, 1px, 1px, 1px);height: 1px;margin: -1px;overflow: hidden;padding: 0;position: absolute;width: 1px;}#sk-container-id-3 div.sk-estimator {font-family: monospace;background-color: #f0f8ff;border: 1px dotted black;border-radius: 0.25em;box-sizing: border-box;margin-bottom: 0.5em;}#sk-container-id-3 div.sk-estimator:hover {background-color: #d4ebff;}#sk-container-id-3 div.sk-parallel-item::after {content: \"\";width: 100%;border-bottom: 1px solid gray;flex-grow: 1;}#sk-container-id-3 div.sk-label:hover label.sk-toggleable__label {background-color: #d4ebff;}#sk-container-id-3 div.sk-serial::before {content: \"\";position: absolute;border-left: 1px solid gray;box-sizing: border-box;top: 0;bottom: 0;left: 50%;z-index: 0;}#sk-container-id-3 div.sk-serial {display: flex;flex-direction: column;align-items: center;background-color: white;padding-right: 0.2em;padding-left: 0.2em;position: relative;}#sk-container-id-3 div.sk-item {position: relative;z-index: 1;}#sk-container-id-3 div.sk-parallel {display: flex;align-items: stretch;justify-content: center;background-color: white;position: relative;}#sk-container-id-3 div.sk-item::before, #sk-container-id-3 div.sk-parallel-item::before {content: \"\";position: absolute;border-left: 1px solid gray;box-sizing: border-box;top: 0;bottom: 0;left: 50%;z-index: -1;}#sk-container-id-3 div.sk-parallel-item {display: flex;flex-direction: column;z-index: 1;position: relative;background-color: white;}#sk-container-id-3 div.sk-parallel-item:first-child::after {align-self: flex-end;width: 50%;}#sk-container-id-3 div.sk-parallel-item:last-child::after {align-self: flex-start;width: 50%;}#sk-container-id-3 div.sk-parallel-item:only-child::after {width: 0;}#sk-container-id-3 div.sk-dashed-wrapped {border: 1px dashed gray;margin: 0 0.4em 0.5em 0.4em;box-sizing: border-box;padding-bottom: 0.4em;background-color: white;}#sk-container-id-3 div.sk-label label {font-family: monospace;font-weight: bold;display: inline-block;line-height: 1.2em;}#sk-container-id-3 div.sk-label-container {text-align: center;}#sk-container-id-3 div.sk-container {/* jupyter's `normalize.less` sets `[hidden] { display: none; }` but bootstrap.min.css set `[hidden] { display: none !important; }` so we also need the `!important` here to be able to override the default hidden behavior on the sphinx rendered scikit-learn.org. See: https://github.com/scikit-learn/scikit-learn/issues/21755 */display: inline-block !important;position: relative;}#sk-container-id-3 div.sk-text-repr-fallback {display: none;}</style><div id=\"sk-container-id-3\" class=\"sk-top-container\"><div class=\"sk-text-repr-fallback\"><pre>LogisticRegression(max_iter=1000)</pre><b>In a Jupyter environment, please rerun this cell to show the HTML representation or trust the notebook. <br />On GitHub, the HTML representation is unable to render, please try loading this page with nbviewer.org.</b></div><div class=\"sk-container\" hidden><div class=\"sk-item\"><div class=\"sk-estimator sk-toggleable\"><input class=\"sk-toggleable__control sk-hidden--visually\" id=\"sk-estimator-id-3\" type=\"checkbox\" checked><label for=\"sk-estimator-id-3\" class=\"sk-toggleable__label sk-toggleable__label-arrow\">LogisticRegression</label><div class=\"sk-toggleable__content\"><pre>LogisticRegression(max_iter=1000)</pre></div></div></div></div></div>"
            ],
            "text/plain": [
              "LogisticRegression(max_iter=1000)"
            ]
          },
          "execution_count": 63,
          "metadata": {},
          "output_type": "execute_result"
        }
      ],
      "source": [
        "model.fit(X_train, y_train)"
      ]
    },
    {
      "cell_type": "code",
      "execution_count": null,
      "metadata": {
        "id": "G9o0SUGA4wUB"
      },
      "outputs": [],
      "source": [
        "y_pred = model.predict(X_test)"
      ]
    },
    {
      "cell_type": "code",
      "execution_count": null,
      "metadata": {
        "id": "P-O7E3YP46aP"
      },
      "outputs": [],
      "source": [
        "accuracy = accuracy_score(y_test, y_pred)\n",
        "conf_matrix = confusion_matrix(y_test, y_pred)\n",
        "class_report = classification_report(y_test, y_pred)"
      ]
    },
    {
      "cell_type": "code",
      "execution_count": null,
      "metadata": {
        "colab": {
          "base_uri": "https://localhost:8080/"
        },
        "id": "jODTBV6l46Q7",
        "outputId": "294fc83f-e63f-414f-f9c7-1d4863ff3c31"
      },
      "outputs": [
        {
          "name": "stdout",
          "output_type": "stream",
          "text": [
            "Accuracy: 0.7288291605301914\n",
            "Confusion Matrix:\n",
            "[[3674  226]\n",
            " [1247  285]]\n",
            "Classification Report:\n",
            "              precision    recall  f1-score   support\n",
            "\n",
            "           1       0.75      0.94      0.83      3900\n",
            "           2       0.56      0.19      0.28      1532\n",
            "\n",
            "    accuracy                           0.73      5432\n",
            "   macro avg       0.65      0.56      0.56      5432\n",
            "weighted avg       0.69      0.73      0.68      5432\n",
            "\n"
          ]
        }
      ],
      "source": [
        "print(f'Accuracy: {accuracy}')\n",
        "print('Confusion Matrix:')\n",
        "print(conf_matrix)\n",
        "print('Classification Report:')\n",
        "print(class_report)"
      ]
    },
    {
      "cell_type": "markdown",
      "metadata": {
        "id": "RXtBk3Nn5BrE"
      },
      "source": [
        "PCA and Decision Trees Combination"
      ]
    },
    {
      "cell_type": "code",
      "execution_count": null,
      "metadata": {
        "id": "Q6PpRNnP5FYa"
      },
      "outputs": [],
      "source": [
        "df = df.dropna()"
      ]
    },
    {
      "cell_type": "code",
      "execution_count": null,
      "metadata": {
        "id": "x0fHinQD5d6j"
      },
      "outputs": [],
      "source": [
        "X = df.drop(columns=['Result'])\n",
        "y = df['Result']"
      ]
    },
    {
      "cell_type": "code",
      "execution_count": null,
      "metadata": {
        "id": "4vGLQiUC5dyU"
      },
      "outputs": [],
      "source": [
        "X = pd.get_dummies(X, drop_first=True)"
      ]
    },
    {
      "cell_type": "code",
      "execution_count": null,
      "metadata": {
        "id": "o9eluwII5k56"
      },
      "outputs": [],
      "source": [
        "scaler = StandardScaler()\n",
        "X_scaled = scaler.fit_transform(X)"
      ]
    },
    {
      "cell_type": "code",
      "execution_count": null,
      "metadata": {
        "id": "oYvlT-N-5n8t"
      },
      "outputs": [],
      "source": [
        "pca = PCA(n_components=10)\n",
        "X_pca = pca.fit_transform(X_scaled)"
      ]
    },
    {
      "cell_type": "code",
      "execution_count": null,
      "metadata": {
        "id": "Bibp16kV5sVo"
      },
      "outputs": [],
      "source": [
        "X_train, X_test, y_train, y_test = train_test_split(X_pca, y, test_size=0.2, random_state=42)"
      ]
    },
    {
      "cell_type": "code",
      "execution_count": null,
      "metadata": {
        "id": "ltobVwo85sM9"
      },
      "outputs": [],
      "source": [
        "model = DecisionTreeClassifier(max_depth=10, min_samples_split=5, min_samples_leaf=2, random_state=42)"
      ]
    },
    {
      "cell_type": "code",
      "execution_count": null,
      "metadata": {
        "colab": {
          "base_uri": "https://localhost:8080/",
          "height": 92
        },
        "id": "zx3B6hoP5yYB",
        "outputId": "9157542a-d854-4945-983a-03fa11eb879e"
      },
      "outputs": [
        {
          "data": {
            "text/html": [
              "<style>#sk-container-id-4 {color: black;}#sk-container-id-4 pre{padding: 0;}#sk-container-id-4 div.sk-toggleable {background-color: white;}#sk-container-id-4 label.sk-toggleable__label {cursor: pointer;display: block;width: 100%;margin-bottom: 0;padding: 0.3em;box-sizing: border-box;text-align: center;}#sk-container-id-4 label.sk-toggleable__label-arrow:before {content: \"▸\";float: left;margin-right: 0.25em;color: #696969;}#sk-container-id-4 label.sk-toggleable__label-arrow:hover:before {color: black;}#sk-container-id-4 div.sk-estimator:hover label.sk-toggleable__label-arrow:before {color: black;}#sk-container-id-4 div.sk-toggleable__content {max-height: 0;max-width: 0;overflow: hidden;text-align: left;background-color: #f0f8ff;}#sk-container-id-4 div.sk-toggleable__content pre {margin: 0.2em;color: black;border-radius: 0.25em;background-color: #f0f8ff;}#sk-container-id-4 input.sk-toggleable__control:checked~div.sk-toggleable__content {max-height: 200px;max-width: 100%;overflow: auto;}#sk-container-id-4 input.sk-toggleable__control:checked~label.sk-toggleable__label-arrow:before {content: \"▾\";}#sk-container-id-4 div.sk-estimator input.sk-toggleable__control:checked~label.sk-toggleable__label {background-color: #d4ebff;}#sk-container-id-4 div.sk-label input.sk-toggleable__control:checked~label.sk-toggleable__label {background-color: #d4ebff;}#sk-container-id-4 input.sk-hidden--visually {border: 0;clip: rect(1px 1px 1px 1px);clip: rect(1px, 1px, 1px, 1px);height: 1px;margin: -1px;overflow: hidden;padding: 0;position: absolute;width: 1px;}#sk-container-id-4 div.sk-estimator {font-family: monospace;background-color: #f0f8ff;border: 1px dotted black;border-radius: 0.25em;box-sizing: border-box;margin-bottom: 0.5em;}#sk-container-id-4 div.sk-estimator:hover {background-color: #d4ebff;}#sk-container-id-4 div.sk-parallel-item::after {content: \"\";width: 100%;border-bottom: 1px solid gray;flex-grow: 1;}#sk-container-id-4 div.sk-label:hover label.sk-toggleable__label {background-color: #d4ebff;}#sk-container-id-4 div.sk-serial::before {content: \"\";position: absolute;border-left: 1px solid gray;box-sizing: border-box;top: 0;bottom: 0;left: 50%;z-index: 0;}#sk-container-id-4 div.sk-serial {display: flex;flex-direction: column;align-items: center;background-color: white;padding-right: 0.2em;padding-left: 0.2em;position: relative;}#sk-container-id-4 div.sk-item {position: relative;z-index: 1;}#sk-container-id-4 div.sk-parallel {display: flex;align-items: stretch;justify-content: center;background-color: white;position: relative;}#sk-container-id-4 div.sk-item::before, #sk-container-id-4 div.sk-parallel-item::before {content: \"\";position: absolute;border-left: 1px solid gray;box-sizing: border-box;top: 0;bottom: 0;left: 50%;z-index: -1;}#sk-container-id-4 div.sk-parallel-item {display: flex;flex-direction: column;z-index: 1;position: relative;background-color: white;}#sk-container-id-4 div.sk-parallel-item:first-child::after {align-self: flex-end;width: 50%;}#sk-container-id-4 div.sk-parallel-item:last-child::after {align-self: flex-start;width: 50%;}#sk-container-id-4 div.sk-parallel-item:only-child::after {width: 0;}#sk-container-id-4 div.sk-dashed-wrapped {border: 1px dashed gray;margin: 0 0.4em 0.5em 0.4em;box-sizing: border-box;padding-bottom: 0.4em;background-color: white;}#sk-container-id-4 div.sk-label label {font-family: monospace;font-weight: bold;display: inline-block;line-height: 1.2em;}#sk-container-id-4 div.sk-label-container {text-align: center;}#sk-container-id-4 div.sk-container {/* jupyter's `normalize.less` sets `[hidden] { display: none; }` but bootstrap.min.css set `[hidden] { display: none !important; }` so we also need the `!important` here to be able to override the default hidden behavior on the sphinx rendered scikit-learn.org. See: https://github.com/scikit-learn/scikit-learn/issues/21755 */display: inline-block !important;position: relative;}#sk-container-id-4 div.sk-text-repr-fallback {display: none;}</style><div id=\"sk-container-id-4\" class=\"sk-top-container\"><div class=\"sk-text-repr-fallback\"><pre>DecisionTreeClassifier(max_depth=10, min_samples_leaf=2, min_samples_split=5,\n",
              "                       random_state=42)</pre><b>In a Jupyter environment, please rerun this cell to show the HTML representation or trust the notebook. <br />On GitHub, the HTML representation is unable to render, please try loading this page with nbviewer.org.</b></div><div class=\"sk-container\" hidden><div class=\"sk-item\"><div class=\"sk-estimator sk-toggleable\"><input class=\"sk-toggleable__control sk-hidden--visually\" id=\"sk-estimator-id-4\" type=\"checkbox\" checked><label for=\"sk-estimator-id-4\" class=\"sk-toggleable__label sk-toggleable__label-arrow\">DecisionTreeClassifier</label><div class=\"sk-toggleable__content\"><pre>DecisionTreeClassifier(max_depth=10, min_samples_leaf=2, min_samples_split=5,\n",
              "                       random_state=42)</pre></div></div></div></div></div>"
            ],
            "text/plain": [
              "DecisionTreeClassifier(max_depth=10, min_samples_leaf=2, min_samples_split=5,\n",
              "                       random_state=42)"
            ]
          },
          "execution_count": 74,
          "metadata": {},
          "output_type": "execute_result"
        }
      ],
      "source": [
        "model.fit(X_train, y_train)"
      ]
    },
    {
      "cell_type": "code",
      "execution_count": null,
      "metadata": {
        "id": "cjthQ5nS5y0K"
      },
      "outputs": [],
      "source": [
        "y_pred = model.predict(X_test)"
      ]
    },
    {
      "cell_type": "code",
      "execution_count": null,
      "metadata": {
        "id": "nn-dBRmL58CR"
      },
      "outputs": [],
      "source": [
        "accuracy = accuracy_score(y_test, y_pred)\n",
        "conf_matrix = confusion_matrix(y_test, y_pred)\n",
        "class_report = classification_report(y_test, y_pred)"
      ]
    },
    {
      "cell_type": "code",
      "execution_count": null,
      "metadata": {
        "colab": {
          "base_uri": "https://localhost:8080/"
        },
        "id": "5HU0YmSL5_kI",
        "outputId": "061e527d-f960-4329-b42c-d0c5ed8e533c"
      },
      "outputs": [
        {
          "name": "stdout",
          "output_type": "stream",
          "text": [
            "Accuracy: 0.9265463917525774\n",
            "Confusion Matrix:\n",
            "[[3758  142]\n",
            " [ 257 1275]]\n",
            "Classification Report:\n",
            "              precision    recall  f1-score   support\n",
            "\n",
            "           1       0.94      0.96      0.95      3900\n",
            "           2       0.90      0.83      0.86      1532\n",
            "\n",
            "    accuracy                           0.93      5432\n",
            "   macro avg       0.92      0.90      0.91      5432\n",
            "weighted avg       0.93      0.93      0.93      5432\n",
            "\n"
          ]
        }
      ],
      "source": [
        "print(f'Accuracy: {accuracy}')\n",
        "print('Confusion Matrix:')\n",
        "print(conf_matrix)\n",
        "print('Classification Report:')\n",
        "print(class_report)"
      ]
    },
    {
      "cell_type": "markdown",
      "metadata": {
        "id": "dlldzJcNEQrJ"
      },
      "source": [
        "PCA and Random Forest combination"
      ]
    },
    {
      "cell_type": "code",
      "execution_count": null,
      "metadata": {
        "id": "oe9keGkcSwhy"
      },
      "outputs": [],
      "source": [
        "df = df.dropna()"
      ]
    },
    {
      "cell_type": "code",
      "execution_count": null,
      "metadata": {
        "id": "871EN3yETX6f"
      },
      "outputs": [],
      "source": [
        "X = df.drop(columns=['Result'])\n",
        "y = df['Result']"
      ]
    },
    {
      "cell_type": "code",
      "execution_count": null,
      "metadata": {
        "id": "TFCTbg4nTad1"
      },
      "outputs": [],
      "source": [
        "X = pd.get_dummies(X, drop_first=True)"
      ]
    },
    {
      "cell_type": "code",
      "execution_count": null,
      "metadata": {
        "id": "fvi-aK3mTdlv"
      },
      "outputs": [],
      "source": [
        "scaler = StandardScaler()\n",
        "X_scaled = scaler.fit_transform(X)"
      ]
    },
    {
      "cell_type": "code",
      "execution_count": null,
      "metadata": {
        "id": "hKHSiGptTgUD"
      },
      "outputs": [],
      "source": [
        "pca = PCA(n_components=10)\n",
        "X_pca = pca.fit_transform(X_scaled)"
      ]
    },
    {
      "cell_type": "code",
      "execution_count": null,
      "metadata": {
        "id": "TFJsC6nRTj-7"
      },
      "outputs": [],
      "source": [
        "X_train, X_test, y_train, y_test = train_test_split(X_pca, y, test_size=0.2, random_state=42)"
      ]
    },
    {
      "cell_type": "code",
      "execution_count": null,
      "metadata": {
        "id": "g35yn71qTnpd"
      },
      "outputs": [],
      "source": [
        "rf_clf = RandomForestClassifier(\n",
        "    n_estimators=50,\n",
        "    max_depth=5,\n",
        "    min_samples_split=10,\n",
        "    min_samples_leaf=5,\n",
        "    random_state=42\n",
        ")"
      ]
    },
    {
      "cell_type": "code",
      "execution_count": null,
      "metadata": {
        "colab": {
          "base_uri": "https://localhost:8080/"
        },
        "id": "FR8TjAMW1x3E",
        "outputId": "07d95ec8-39d0-426d-9265-55b116027650"
      },
      "outputs": [
        {
          "name": "stdout",
          "output_type": "stream",
          "text": [
            "Cross-Validation Scores: [0.78624022 0.77744534 0.7739931  0.79010357 0.7716916 ]\n",
            "Mean Cross-Validation Score: 0.7798947645467943\n"
          ]
        }
      ],
      "source": [
        "cv_scores = cross_val_score(rf_clf, X_train, y_train, cv=5)\n",
        "print(f\"Cross-Validation Scores: {cv_scores}\")\n",
        "print(f\"Mean Cross-Validation Score: {cv_scores.mean()}\")"
      ]
    },
    {
      "cell_type": "code",
      "execution_count": null,
      "metadata": {
        "id": "xmE5ybuaTrPS"
      },
      "outputs": [],
      "source": [
        "y_pred = model.predict(X_test)"
      ]
    },
    {
      "cell_type": "code",
      "execution_count": null,
      "metadata": {
        "id": "_0xV4EmQTrDW"
      },
      "outputs": [],
      "source": [
        "accuracy = accuracy_score(y_test, y_pred)\n",
        "conf_matrix = confusion_matrix(y_test, y_pred)\n",
        "class_report = classification_report(y_test, y_pred)"
      ]
    },
    {
      "cell_type": "code",
      "execution_count": null,
      "metadata": {
        "colab": {
          "base_uri": "https://localhost:8080/"
        },
        "id": "X_aM8x0mTw8i",
        "outputId": "0815a581-95e7-4090-fd0e-dfc197c5f633"
      },
      "outputs": [
        {
          "name": "stdout",
          "output_type": "stream",
          "text": [
            "Accuracy: 0.93\n",
            "Confusion Matrix:\n",
            "[[3758  142]\n",
            " [ 257 1275]]\n",
            "Classification Report:\n",
            "              precision    recall  f1-score   support\n",
            "\n",
            "           1       0.94      0.96      0.95      3900\n",
            "           2       0.90      0.83      0.86      1532\n",
            "\n",
            "    accuracy                           0.93      5432\n",
            "   macro avg       0.92      0.90      0.91      5432\n",
            "weighted avg       0.93      0.93      0.93      5432\n",
            "\n"
          ]
        }
      ],
      "source": [
        "print(f'Accuracy: {accuracy:.2f}')\n",
        "print('Confusion Matrix:')\n",
        "print(conf_matrix)\n",
        "print('Classification Report:')\n",
        "print(class_report)"
      ]
    },
    {
      "cell_type": "markdown",
      "metadata": {
        "id": "PB498XOz6FvG"
      },
      "source": [
        "LDA and ANN combination"
      ]
    },
    {
      "cell_type": "code",
      "execution_count": null,
      "metadata": {
        "id": "ZCL24rIp6OiR"
      },
      "outputs": [],
      "source": [
        "df = df.dropna()"
      ]
    },
    {
      "cell_type": "code",
      "execution_count": null,
      "metadata": {
        "id": "HXiyNlxz7HG2"
      },
      "outputs": [],
      "source": [
        "X = df.drop(columns=['Result'])\n",
        "y = df['Result']"
      ]
    },
    {
      "cell_type": "code",
      "execution_count": null,
      "metadata": {
        "id": "aYZQieQ57KO4"
      },
      "outputs": [],
      "source": [
        "X = pd.get_dummies(X, drop_first=True)"
      ]
    },
    {
      "cell_type": "code",
      "execution_count": null,
      "metadata": {
        "id": "w0FIHz4S7O7h"
      },
      "outputs": [],
      "source": [
        "scaler = StandardScaler()\n",
        "X_scaled = scaler.fit_transform(X)"
      ]
    },
    {
      "cell_type": "code",
      "execution_count": null,
      "metadata": {
        "id": "c2e_MwfJ7RDD"
      },
      "outputs": [],
      "source": [
        "lda = LDA(n_components=1)\n",
        "X_lda = lda.fit_transform(X_scaled, y)"
      ]
    },
    {
      "cell_type": "code",
      "execution_count": null,
      "metadata": {
        "id": "Tj-ynWKg7YZi"
      },
      "outputs": [],
      "source": [
        "X_train, X_test, y_train, y_test = train_test_split(X_lda, y, test_size=0.2, random_state=42)"
      ]
    },
    {
      "cell_type": "code",
      "execution_count": null,
      "metadata": {
        "id": "eqvXEcux7dCb"
      },
      "outputs": [],
      "source": [
        "model = Sequential()"
      ]
    },
    {
      "cell_type": "code",
      "execution_count": null,
      "metadata": {
        "id": "HweSrd3x7hMr"
      },
      "outputs": [],
      "source": [
        "model.add(Dense(32, input_dim=X_train.shape[1], activation='relu'))\n",
        "model.add(Dense(16, activation='relu'))\n",
        "model.add(Dense(1, activation='sigmoid'))"
      ]
    },
    {
      "cell_type": "code",
      "execution_count": null,
      "metadata": {
        "id": "GyM_d9Kp7lOr"
      },
      "outputs": [],
      "source": [
        "model.compile(loss='binary_crossentropy', optimizer='adam', metrics=['accuracy'])"
      ]
    },
    {
      "cell_type": "code",
      "execution_count": null,
      "metadata": {
        "colab": {
          "base_uri": "https://localhost:8080/"
        },
        "id": "Q_mroM2e7pW4",
        "outputId": "9e31db6f-83fe-42b8-9c39-393e65740860"
      },
      "outputs": [
        {
          "name": "stdout",
          "output_type": "stream",
          "text": [
            "Epoch 1/50\n",
            "1956/1956 [==============================] - 8s 3ms/step - loss: -876.2732 - accuracy: 0.7183 - val_loss: -3491.7754 - val_accuracy: 0.7055\n",
            "Epoch 2/50\n",
            "1956/1956 [==============================] - 4s 2ms/step - loss: -10382.9600 - accuracy: 0.7183 - val_loss: -21045.3320 - val_accuracy: 0.7055\n",
            "Epoch 3/50\n",
            "1956/1956 [==============================] - 4s 2ms/step - loss: -35612.1133 - accuracy: 0.7183 - val_loss: -56888.0820 - val_accuracy: 0.7055\n",
            "Epoch 4/50\n",
            "1956/1956 [==============================] - 6s 3ms/step - loss: -79962.4453 - accuracy: 0.7183 - val_loss: -114500.8594 - val_accuracy: 0.7055\n",
            "Epoch 5/50\n",
            "1956/1956 [==============================] - 4s 2ms/step - loss: -146400.0156 - accuracy: 0.7183 - val_loss: -196758.4531 - val_accuracy: 0.7055\n",
            "Epoch 6/50\n",
            "1956/1956 [==============================] - 4s 2ms/step - loss: -239001.4531 - accuracy: 0.7183 - val_loss: -308845.0625 - val_accuracy: 0.7055\n",
            "Epoch 7/50\n",
            "1956/1956 [==============================] - 6s 3ms/step - loss: -360883.7812 - accuracy: 0.7183 - val_loss: -452880.6875 - val_accuracy: 0.7055\n",
            "Epoch 8/50\n",
            "1956/1956 [==============================] - 4s 2ms/step - loss: -515247.6875 - accuracy: 0.7183 - val_loss: -632528.3125 - val_accuracy: 0.7055\n",
            "Epoch 9/50\n",
            "1956/1956 [==============================] - 4s 2ms/step - loss: -706151.7500 - accuracy: 0.7183 - val_loss: -853178.8750 - val_accuracy: 0.7055\n",
            "Epoch 10/50\n",
            "1956/1956 [==============================] - 7s 3ms/step - loss: -936780.1250 - accuracy: 0.7183 - val_loss: -1115885.5000 - val_accuracy: 0.7055\n",
            "Epoch 11/50\n",
            "1956/1956 [==============================] - 4s 2ms/step - loss: -1209729.1250 - accuracy: 0.7183 - val_loss: -1426075.8750 - val_accuracy: 0.7055\n",
            "Epoch 12/50\n",
            "1956/1956 [==============================] - 4s 2ms/step - loss: -1528735.8750 - accuracy: 0.7183 - val_loss: -1784226.5000 - val_accuracy: 0.7055\n",
            "Epoch 13/50\n",
            "1956/1956 [==============================] - 6s 3ms/step - loss: -1896490.1250 - accuracy: 0.7183 - val_loss: -2198714.5000 - val_accuracy: 0.7055\n",
            "Epoch 14/50\n",
            "1956/1956 [==============================] - 4s 2ms/step - loss: -2321070.0000 - accuracy: 0.7183 - val_loss: -2671892.5000 - val_accuracy: 0.7055\n",
            "Epoch 15/50\n",
            "1956/1956 [==============================] - 4s 2ms/step - loss: -2799446.7500 - accuracy: 0.7183 - val_loss: -3202360.5000 - val_accuracy: 0.7055\n",
            "Epoch 16/50\n",
            "1956/1956 [==============================] - 6s 3ms/step - loss: -3337381.5000 - accuracy: 0.7183 - val_loss: -3796405.5000 - val_accuracy: 0.7055\n",
            "Epoch 17/50\n",
            "1956/1956 [==============================] - 4s 2ms/step - loss: -3937250.0000 - accuracy: 0.7183 - val_loss: -4460222.0000 - val_accuracy: 0.7055\n",
            "Epoch 18/50\n",
            "1956/1956 [==============================] - 4s 2ms/step - loss: -4602615.0000 - accuracy: 0.7183 - val_loss: -5190660.0000 - val_accuracy: 0.7055\n",
            "Epoch 19/50\n",
            "1956/1956 [==============================] - 6s 3ms/step - loss: -5335198.5000 - accuracy: 0.7183 - val_loss: -5996131.0000 - val_accuracy: 0.7055\n",
            "Epoch 20/50\n",
            "1956/1956 [==============================] - 4s 2ms/step - loss: -6145898.5000 - accuracy: 0.7183 - val_loss: -6884509.0000 - val_accuracy: 0.7055\n",
            "Epoch 21/50\n",
            "1956/1956 [==============================] - 4s 2ms/step - loss: -7026383.5000 - accuracy: 0.7183 - val_loss: -7847416.0000 - val_accuracy: 0.7055\n",
            "Epoch 22/50\n",
            "1956/1956 [==============================] - 6s 3ms/step - loss: -7994123.5000 - accuracy: 0.7183 - val_loss: -8907215.0000 - val_accuracy: 0.7055\n",
            "Epoch 23/50\n",
            "1956/1956 [==============================] - 5s 2ms/step - loss: -9043807.0000 - accuracy: 0.7183 - val_loss: -10046387.0000 - val_accuracy: 0.7055\n",
            "Epoch 24/50\n",
            "1956/1956 [==============================] - 4s 2ms/step - loss: -10174582.0000 - accuracy: 0.7183 - val_loss: -11279345.0000 - val_accuracy: 0.7055\n",
            "Epoch 25/50\n",
            "1956/1956 [==============================] - 6s 3ms/step - loss: -11391393.0000 - accuracy: 0.7183 - val_loss: -12595919.0000 - val_accuracy: 0.7055\n",
            "Epoch 26/50\n",
            "1956/1956 [==============================] - 5s 2ms/step - loss: -12699697.0000 - accuracy: 0.7183 - val_loss: -14013579.0000 - val_accuracy: 0.7055\n",
            "Epoch 27/50\n",
            "1956/1956 [==============================] - 4s 2ms/step - loss: -14105723.0000 - accuracy: 0.7183 - val_loss: -15541333.0000 - val_accuracy: 0.7055\n",
            "Epoch 28/50\n",
            "1956/1956 [==============================] - 6s 3ms/step - loss: -15614075.0000 - accuracy: 0.7183 - val_loss: -17171474.0000 - val_accuracy: 0.7055\n",
            "Epoch 29/50\n",
            "1956/1956 [==============================] - 5s 2ms/step - loss: -17215324.0000 - accuracy: 0.7183 - val_loss: -18902090.0000 - val_accuracy: 0.7055\n",
            "Epoch 30/50\n",
            "1956/1956 [==============================] - 4s 2ms/step - loss: -18929744.0000 - accuracy: 0.7183 - val_loss: -20755944.0000 - val_accuracy: 0.7055\n",
            "Epoch 31/50\n",
            "1956/1956 [==============================] - 6s 3ms/step - loss: -20747422.0000 - accuracy: 0.7183 - val_loss: -22711330.0000 - val_accuracy: 0.7055\n",
            "Epoch 32/50\n",
            "1956/1956 [==============================] - 5s 2ms/step - loss: -22678870.0000 - accuracy: 0.7183 - val_loss: -24795858.0000 - val_accuracy: 0.7055\n",
            "Epoch 33/50\n",
            "1956/1956 [==============================] - 4s 2ms/step - loss: -24717382.0000 - accuracy: 0.7183 - val_loss: -26989820.0000 - val_accuracy: 0.7055\n",
            "Epoch 34/50\n",
            "1956/1956 [==============================] - 5s 3ms/step - loss: -26880596.0000 - accuracy: 0.7183 - val_loss: -29330000.0000 - val_accuracy: 0.7055\n",
            "Epoch 35/50\n",
            "1956/1956 [==============================] - 5s 3ms/step - loss: -29177082.0000 - accuracy: 0.7183 - val_loss: -31790094.0000 - val_accuracy: 0.7055\n",
            "Epoch 36/50\n",
            "1956/1956 [==============================] - 4s 2ms/step - loss: -31591610.0000 - accuracy: 0.7183 - val_loss: -34381132.0000 - val_accuracy: 0.7055\n",
            "Epoch 37/50\n",
            "1956/1956 [==============================] - 6s 3ms/step - loss: -34121848.0000 - accuracy: 0.7183 - val_loss: -37097932.0000 - val_accuracy: 0.7055\n",
            "Epoch 38/50\n",
            "1956/1956 [==============================] - 5s 3ms/step - loss: -36785784.0000 - accuracy: 0.7183 - val_loss: -39961436.0000 - val_accuracy: 0.7055\n",
            "Epoch 39/50\n",
            "1956/1956 [==============================] - 4s 2ms/step - loss: -39585308.0000 - accuracy: 0.7183 - val_loss: -42960624.0000 - val_accuracy: 0.7055\n",
            "Epoch 40/50\n",
            "1956/1956 [==============================] - 6s 3ms/step - loss: -42498432.0000 - accuracy: 0.7183 - val_loss: -46072956.0000 - val_accuracy: 0.7055\n",
            "Epoch 41/50\n",
            "1956/1956 [==============================] - 5s 3ms/step - loss: -45567756.0000 - accuracy: 0.7183 - val_loss: -49371272.0000 - val_accuracy: 0.7055\n",
            "Epoch 42/50\n",
            "1956/1956 [==============================] - 4s 2ms/step - loss: -48792060.0000 - accuracy: 0.7183 - val_loss: -52827148.0000 - val_accuracy: 0.7055\n",
            "Epoch 43/50\n",
            "1956/1956 [==============================] - 5s 3ms/step - loss: -52166336.0000 - accuracy: 0.7183 - val_loss: -56434988.0000 - val_accuracy: 0.7055\n",
            "Epoch 44/50\n",
            "1956/1956 [==============================] - 5s 2ms/step - loss: -55676224.0000 - accuracy: 0.7183 - val_loss: -60193908.0000 - val_accuracy: 0.7055\n",
            "Epoch 45/50\n",
            "1956/1956 [==============================] - 4s 2ms/step - loss: -59353268.0000 - accuracy: 0.7183 - val_loss: -64137856.0000 - val_accuracy: 0.7055\n",
            "Epoch 46/50\n",
            "1956/1956 [==============================] - 5s 3ms/step - loss: -63186704.0000 - accuracy: 0.7183 - val_loss: -68217776.0000 - val_accuracy: 0.7055\n",
            "Epoch 47/50\n",
            "1956/1956 [==============================] - 5s 3ms/step - loss: -67160008.0000 - accuracy: 0.7183 - val_loss: -72469088.0000 - val_accuracy: 0.7055\n",
            "Epoch 48/50\n",
            "1956/1956 [==============================] - 4s 2ms/step - loss: -71287680.0000 - accuracy: 0.7183 - val_loss: -76853712.0000 - val_accuracy: 0.7055\n",
            "Epoch 49/50\n",
            "1956/1956 [==============================] - 5s 3ms/step - loss: -75589072.0000 - accuracy: 0.7183 - val_loss: -81474768.0000 - val_accuracy: 0.7055\n",
            "Epoch 50/50\n",
            "1956/1956 [==============================] - 5s 3ms/step - loss: -80105944.0000 - accuracy: 0.7183 - val_loss: -86293152.0000 - val_accuracy: 0.7055\n"
          ]
        },
        {
          "data": {
            "text/plain": [
              "<keras.src.callbacks.History at 0x786c9864ea70>"
            ]
          },
          "execution_count": 98,
          "metadata": {},
          "output_type": "execute_result"
        }
      ],
      "source": [
        "model.fit(X_train, y_train, epochs=50, batch_size=10, validation_split=0.1)"
      ]
    },
    {
      "cell_type": "code",
      "execution_count": null,
      "metadata": {
        "colab": {
          "base_uri": "https://localhost:8080/"
        },
        "id": "vN9aYovQ7tUo",
        "outputId": "d2fe9564-cc49-458e-ee3b-bef1af5d919c"
      },
      "outputs": [
        {
          "name": "stdout",
          "output_type": "stream",
          "text": [
            "170/170 [==============================] - 0s 1ms/step\n"
          ]
        }
      ],
      "source": [
        "y_pred = (model.predict(X_test) > 0.5).astype(\"int32\")"
      ]
    },
    {
      "cell_type": "code",
      "execution_count": null,
      "metadata": {
        "id": "3_0a1HSl7zx9"
      },
      "outputs": [],
      "source": [
        "accuracy = accuracy_score(y_test, y_pred)\n",
        "conf_matrix = confusion_matrix(y_test, y_pred)\n",
        "class_report = classification_report(y_test, y_pred)"
      ]
    },
    {
      "cell_type": "code",
      "execution_count": null,
      "metadata": {
        "colab": {
          "base_uri": "https://localhost:8080/"
        },
        "id": "GZQdhSnu70vr",
        "outputId": "a2192cca-01a8-4337-d430-ae1d5409dad0"
      },
      "outputs": [
        {
          "name": "stdout",
          "output_type": "stream",
          "text": [
            "Accuracy: 0.7179675994108984\n",
            "Confusion Matrix:\n",
            "[[3900    0]\n",
            " [1532    0]]\n",
            "Classification Report:\n",
            "              precision    recall  f1-score   support\n",
            "\n",
            "           1       0.72      1.00      0.84      3900\n",
            "           2       0.00      0.00      0.00      1532\n",
            "\n",
            "    accuracy                           0.72      5432\n",
            "   macro avg       0.36      0.50      0.42      5432\n",
            "weighted avg       0.52      0.72      0.60      5432\n",
            "\n"
          ]
        }
      ],
      "source": [
        "print(f'Accuracy: {accuracy}')\n",
        "print('Confusion Matrix:')\n",
        "print(conf_matrix)\n",
        "print('Classification Report:')\n",
        "print(class_report)"
      ]
    },
    {
      "cell_type": "markdown",
      "metadata": {
        "id": "1pUpTQs875cd"
      },
      "source": [
        "LDA and Logistic Regression"
      ]
    },
    {
      "cell_type": "code",
      "execution_count": null,
      "metadata": {
        "id": "FzxvKG8f790q"
      },
      "outputs": [],
      "source": [
        "df = df.dropna()"
      ]
    },
    {
      "cell_type": "code",
      "execution_count": null,
      "metadata": {
        "id": "K8Sn9cHs8Gqu"
      },
      "outputs": [],
      "source": [
        "X = df.drop(columns=['Result'])\n",
        "y = df['Result']"
      ]
    },
    {
      "cell_type": "code",
      "execution_count": null,
      "metadata": {
        "id": "kekZA9iW8J3U"
      },
      "outputs": [],
      "source": [
        "X = pd.get_dummies(X, drop_first=True)"
      ]
    },
    {
      "cell_type": "code",
      "execution_count": null,
      "metadata": {
        "id": "68bjbOE08NK6"
      },
      "outputs": [],
      "source": [
        "scaler = StandardScaler()\n",
        "X_scaled = scaler.fit_transform(X)"
      ]
    },
    {
      "cell_type": "code",
      "execution_count": null,
      "metadata": {
        "id": "T0uf2meV8M_G"
      },
      "outputs": [],
      "source": [
        "lda = LDA(n_components=1)\n",
        "X_lda = lda.fit_transform(X_scaled, y)"
      ]
    },
    {
      "cell_type": "code",
      "execution_count": null,
      "metadata": {
        "id": "tHiiXq5F8lhR"
      },
      "outputs": [],
      "source": [
        "X_train, X_test, y_train, y_test = train_test_split(X_lda, y, test_size=0.2, random_state=42)"
      ]
    },
    {
      "cell_type": "code",
      "execution_count": null,
      "metadata": {
        "id": "vv4MYFsm8las"
      },
      "outputs": [],
      "source": [
        "model = LogisticRegression(max_iter=1000)"
      ]
    },
    {
      "cell_type": "code",
      "execution_count": null,
      "metadata": {
        "colab": {
          "base_uri": "https://localhost:8080/",
          "height": 74
        },
        "id": "xcti_w2K8txA",
        "outputId": "73543348-cecb-4af0-91eb-581d9cfe3e6d"
      },
      "outputs": [
        {
          "data": {
            "text/html": [
              "<style>#sk-container-id-5 {color: black;}#sk-container-id-5 pre{padding: 0;}#sk-container-id-5 div.sk-toggleable {background-color: white;}#sk-container-id-5 label.sk-toggleable__label {cursor: pointer;display: block;width: 100%;margin-bottom: 0;padding: 0.3em;box-sizing: border-box;text-align: center;}#sk-container-id-5 label.sk-toggleable__label-arrow:before {content: \"▸\";float: left;margin-right: 0.25em;color: #696969;}#sk-container-id-5 label.sk-toggleable__label-arrow:hover:before {color: black;}#sk-container-id-5 div.sk-estimator:hover label.sk-toggleable__label-arrow:before {color: black;}#sk-container-id-5 div.sk-toggleable__content {max-height: 0;max-width: 0;overflow: hidden;text-align: left;background-color: #f0f8ff;}#sk-container-id-5 div.sk-toggleable__content pre {margin: 0.2em;color: black;border-radius: 0.25em;background-color: #f0f8ff;}#sk-container-id-5 input.sk-toggleable__control:checked~div.sk-toggleable__content {max-height: 200px;max-width: 100%;overflow: auto;}#sk-container-id-5 input.sk-toggleable__control:checked~label.sk-toggleable__label-arrow:before {content: \"▾\";}#sk-container-id-5 div.sk-estimator input.sk-toggleable__control:checked~label.sk-toggleable__label {background-color: #d4ebff;}#sk-container-id-5 div.sk-label input.sk-toggleable__control:checked~label.sk-toggleable__label {background-color: #d4ebff;}#sk-container-id-5 input.sk-hidden--visually {border: 0;clip: rect(1px 1px 1px 1px);clip: rect(1px, 1px, 1px, 1px);height: 1px;margin: -1px;overflow: hidden;padding: 0;position: absolute;width: 1px;}#sk-container-id-5 div.sk-estimator {font-family: monospace;background-color: #f0f8ff;border: 1px dotted black;border-radius: 0.25em;box-sizing: border-box;margin-bottom: 0.5em;}#sk-container-id-5 div.sk-estimator:hover {background-color: #d4ebff;}#sk-container-id-5 div.sk-parallel-item::after {content: \"\";width: 100%;border-bottom: 1px solid gray;flex-grow: 1;}#sk-container-id-5 div.sk-label:hover label.sk-toggleable__label {background-color: #d4ebff;}#sk-container-id-5 div.sk-serial::before {content: \"\";position: absolute;border-left: 1px solid gray;box-sizing: border-box;top: 0;bottom: 0;left: 50%;z-index: 0;}#sk-container-id-5 div.sk-serial {display: flex;flex-direction: column;align-items: center;background-color: white;padding-right: 0.2em;padding-left: 0.2em;position: relative;}#sk-container-id-5 div.sk-item {position: relative;z-index: 1;}#sk-container-id-5 div.sk-parallel {display: flex;align-items: stretch;justify-content: center;background-color: white;position: relative;}#sk-container-id-5 div.sk-item::before, #sk-container-id-5 div.sk-parallel-item::before {content: \"\";position: absolute;border-left: 1px solid gray;box-sizing: border-box;top: 0;bottom: 0;left: 50%;z-index: -1;}#sk-container-id-5 div.sk-parallel-item {display: flex;flex-direction: column;z-index: 1;position: relative;background-color: white;}#sk-container-id-5 div.sk-parallel-item:first-child::after {align-self: flex-end;width: 50%;}#sk-container-id-5 div.sk-parallel-item:last-child::after {align-self: flex-start;width: 50%;}#sk-container-id-5 div.sk-parallel-item:only-child::after {width: 0;}#sk-container-id-5 div.sk-dashed-wrapped {border: 1px dashed gray;margin: 0 0.4em 0.5em 0.4em;box-sizing: border-box;padding-bottom: 0.4em;background-color: white;}#sk-container-id-5 div.sk-label label {font-family: monospace;font-weight: bold;display: inline-block;line-height: 1.2em;}#sk-container-id-5 div.sk-label-container {text-align: center;}#sk-container-id-5 div.sk-container {/* jupyter's `normalize.less` sets `[hidden] { display: none; }` but bootstrap.min.css set `[hidden] { display: none !important; }` so we also need the `!important` here to be able to override the default hidden behavior on the sphinx rendered scikit-learn.org. See: https://github.com/scikit-learn/scikit-learn/issues/21755 */display: inline-block !important;position: relative;}#sk-container-id-5 div.sk-text-repr-fallback {display: none;}</style><div id=\"sk-container-id-5\" class=\"sk-top-container\"><div class=\"sk-text-repr-fallback\"><pre>LogisticRegression(max_iter=1000)</pre><b>In a Jupyter environment, please rerun this cell to show the HTML representation or trust the notebook. <br />On GitHub, the HTML representation is unable to render, please try loading this page with nbviewer.org.</b></div><div class=\"sk-container\" hidden><div class=\"sk-item\"><div class=\"sk-estimator sk-toggleable\"><input class=\"sk-toggleable__control sk-hidden--visually\" id=\"sk-estimator-id-5\" type=\"checkbox\" checked><label for=\"sk-estimator-id-5\" class=\"sk-toggleable__label sk-toggleable__label-arrow\">LogisticRegression</label><div class=\"sk-toggleable__content\"><pre>LogisticRegression(max_iter=1000)</pre></div></div></div></div></div>"
            ],
            "text/plain": [
              "LogisticRegression(max_iter=1000)"
            ]
          },
          "execution_count": 109,
          "metadata": {},
          "output_type": "execute_result"
        }
      ],
      "source": [
        "model.fit(X_train, y_train)"
      ]
    },
    {
      "cell_type": "code",
      "execution_count": null,
      "metadata": {
        "id": "aT-egWLF8xmm"
      },
      "outputs": [],
      "source": [
        "y_pred = model.predict(X_test)"
      ]
    },
    {
      "cell_type": "code",
      "execution_count": null,
      "metadata": {
        "id": "OuebdTXp8w-8"
      },
      "outputs": [],
      "source": [
        "accuracy = accuracy_score(y_test, y_pred)\n",
        "conf_matrix = confusion_matrix(y_test, y_pred)\n",
        "class_report = classification_report(y_test, y_pred)"
      ]
    },
    {
      "cell_type": "code",
      "execution_count": null,
      "metadata": {
        "colab": {
          "base_uri": "https://localhost:8080/"
        },
        "id": "uKFkjE8u84W8",
        "outputId": "1f3180e4-41ba-4996-b0df-25f66a687264"
      },
      "outputs": [
        {
          "name": "stdout",
          "output_type": "stream",
          "text": [
            "Accuracy: 0.7115243004418262\n",
            "Confusion Matrix:\n",
            "[[3635  265]\n",
            " [1302  230]]\n",
            "Classification Report:\n",
            "              precision    recall  f1-score   support\n",
            "\n",
            "           1       0.74      0.93      0.82      3900\n",
            "           2       0.46      0.15      0.23      1532\n",
            "\n",
            "    accuracy                           0.71      5432\n",
            "   macro avg       0.60      0.54      0.52      5432\n",
            "weighted avg       0.66      0.71      0.65      5432\n",
            "\n"
          ]
        }
      ],
      "source": [
        "print(f'Accuracy: {accuracy}')\n",
        "print('Confusion Matrix:')\n",
        "print(conf_matrix)\n",
        "print('Classification Report:')\n",
        "print(class_report)"
      ]
    },
    {
      "cell_type": "markdown",
      "metadata": {
        "id": "UZV-2vcN88bQ"
      },
      "source": [
        "LDA and Decision Trees Combination"
      ]
    },
    {
      "cell_type": "code",
      "execution_count": null,
      "metadata": {
        "id": "NRdhFEJ39CFb"
      },
      "outputs": [],
      "source": [
        "df = df.dropna()"
      ]
    },
    {
      "cell_type": "code",
      "execution_count": null,
      "metadata": {
        "id": "6PQknucO9juF"
      },
      "outputs": [],
      "source": [
        "X = df.drop(columns=['Result'])\n",
        "y = df['Result']"
      ]
    },
    {
      "cell_type": "code",
      "execution_count": null,
      "metadata": {
        "id": "9j_0QOoL9n53"
      },
      "outputs": [],
      "source": [
        "X = pd.get_dummies(X, drop_first=True)"
      ]
    },
    {
      "cell_type": "code",
      "execution_count": null,
      "metadata": {
        "id": "JANG4zl99jg1"
      },
      "outputs": [],
      "source": [
        "scaler = StandardScaler()\n",
        "X_scaled = scaler.fit_transform(X)"
      ]
    },
    {
      "cell_type": "code",
      "execution_count": null,
      "metadata": {
        "id": "L1qPrQ2e94bW"
      },
      "outputs": [],
      "source": [
        "lda = LDA(n_components=1)\n",
        "X_lda = lda.fit_transform(X_scaled, y)"
      ]
    },
    {
      "cell_type": "code",
      "execution_count": null,
      "metadata": {
        "id": "yTUz-j1q93XV"
      },
      "outputs": [],
      "source": [
        "X_train, X_test, y_train, y_test = train_test_split(X_lda, y, test_size=0.2, random_state=42)"
      ]
    },
    {
      "cell_type": "code",
      "execution_count": null,
      "metadata": {
        "id": "C_rOkkdG-Fud"
      },
      "outputs": [],
      "source": [
        "model = DecisionTreeClassifier(random_state=42)"
      ]
    },
    {
      "cell_type": "code",
      "execution_count": null,
      "metadata": {
        "colab": {
          "base_uri": "https://localhost:8080/",
          "height": 74
        },
        "id": "qhYtnQZA-KzB",
        "outputId": "86ed1b74-73b8-47a0-a338-0137689ab454"
      },
      "outputs": [
        {
          "data": {
            "text/html": [
              "<style>#sk-container-id-6 {color: black;}#sk-container-id-6 pre{padding: 0;}#sk-container-id-6 div.sk-toggleable {background-color: white;}#sk-container-id-6 label.sk-toggleable__label {cursor: pointer;display: block;width: 100%;margin-bottom: 0;padding: 0.3em;box-sizing: border-box;text-align: center;}#sk-container-id-6 label.sk-toggleable__label-arrow:before {content: \"▸\";float: left;margin-right: 0.25em;color: #696969;}#sk-container-id-6 label.sk-toggleable__label-arrow:hover:before {color: black;}#sk-container-id-6 div.sk-estimator:hover label.sk-toggleable__label-arrow:before {color: black;}#sk-container-id-6 div.sk-toggleable__content {max-height: 0;max-width: 0;overflow: hidden;text-align: left;background-color: #f0f8ff;}#sk-container-id-6 div.sk-toggleable__content pre {margin: 0.2em;color: black;border-radius: 0.25em;background-color: #f0f8ff;}#sk-container-id-6 input.sk-toggleable__control:checked~div.sk-toggleable__content {max-height: 200px;max-width: 100%;overflow: auto;}#sk-container-id-6 input.sk-toggleable__control:checked~label.sk-toggleable__label-arrow:before {content: \"▾\";}#sk-container-id-6 div.sk-estimator input.sk-toggleable__control:checked~label.sk-toggleable__label {background-color: #d4ebff;}#sk-container-id-6 div.sk-label input.sk-toggleable__control:checked~label.sk-toggleable__label {background-color: #d4ebff;}#sk-container-id-6 input.sk-hidden--visually {border: 0;clip: rect(1px 1px 1px 1px);clip: rect(1px, 1px, 1px, 1px);height: 1px;margin: -1px;overflow: hidden;padding: 0;position: absolute;width: 1px;}#sk-container-id-6 div.sk-estimator {font-family: monospace;background-color: #f0f8ff;border: 1px dotted black;border-radius: 0.25em;box-sizing: border-box;margin-bottom: 0.5em;}#sk-container-id-6 div.sk-estimator:hover {background-color: #d4ebff;}#sk-container-id-6 div.sk-parallel-item::after {content: \"\";width: 100%;border-bottom: 1px solid gray;flex-grow: 1;}#sk-container-id-6 div.sk-label:hover label.sk-toggleable__label {background-color: #d4ebff;}#sk-container-id-6 div.sk-serial::before {content: \"\";position: absolute;border-left: 1px solid gray;box-sizing: border-box;top: 0;bottom: 0;left: 50%;z-index: 0;}#sk-container-id-6 div.sk-serial {display: flex;flex-direction: column;align-items: center;background-color: white;padding-right: 0.2em;padding-left: 0.2em;position: relative;}#sk-container-id-6 div.sk-item {position: relative;z-index: 1;}#sk-container-id-6 div.sk-parallel {display: flex;align-items: stretch;justify-content: center;background-color: white;position: relative;}#sk-container-id-6 div.sk-item::before, #sk-container-id-6 div.sk-parallel-item::before {content: \"\";position: absolute;border-left: 1px solid gray;box-sizing: border-box;top: 0;bottom: 0;left: 50%;z-index: -1;}#sk-container-id-6 div.sk-parallel-item {display: flex;flex-direction: column;z-index: 1;position: relative;background-color: white;}#sk-container-id-6 div.sk-parallel-item:first-child::after {align-self: flex-end;width: 50%;}#sk-container-id-6 div.sk-parallel-item:last-child::after {align-self: flex-start;width: 50%;}#sk-container-id-6 div.sk-parallel-item:only-child::after {width: 0;}#sk-container-id-6 div.sk-dashed-wrapped {border: 1px dashed gray;margin: 0 0.4em 0.5em 0.4em;box-sizing: border-box;padding-bottom: 0.4em;background-color: white;}#sk-container-id-6 div.sk-label label {font-family: monospace;font-weight: bold;display: inline-block;line-height: 1.2em;}#sk-container-id-6 div.sk-label-container {text-align: center;}#sk-container-id-6 div.sk-container {/* jupyter's `normalize.less` sets `[hidden] { display: none; }` but bootstrap.min.css set `[hidden] { display: none !important; }` so we also need the `!important` here to be able to override the default hidden behavior on the sphinx rendered scikit-learn.org. See: https://github.com/scikit-learn/scikit-learn/issues/21755 */display: inline-block !important;position: relative;}#sk-container-id-6 div.sk-text-repr-fallback {display: none;}</style><div id=\"sk-container-id-6\" class=\"sk-top-container\"><div class=\"sk-text-repr-fallback\"><pre>DecisionTreeClassifier(random_state=42)</pre><b>In a Jupyter environment, please rerun this cell to show the HTML representation or trust the notebook. <br />On GitHub, the HTML representation is unable to render, please try loading this page with nbviewer.org.</b></div><div class=\"sk-container\" hidden><div class=\"sk-item\"><div class=\"sk-estimator sk-toggleable\"><input class=\"sk-toggleable__control sk-hidden--visually\" id=\"sk-estimator-id-6\" type=\"checkbox\" checked><label for=\"sk-estimator-id-6\" class=\"sk-toggleable__label sk-toggleable__label-arrow\">DecisionTreeClassifier</label><div class=\"sk-toggleable__content\"><pre>DecisionTreeClassifier(random_state=42)</pre></div></div></div></div></div>"
            ],
            "text/plain": [
              "DecisionTreeClassifier(random_state=42)"
            ]
          },
          "execution_count": 120,
          "metadata": {},
          "output_type": "execute_result"
        }
      ],
      "source": [
        "model.fit(X_train, y_train)"
      ]
    },
    {
      "cell_type": "code",
      "execution_count": null,
      "metadata": {
        "id": "QM_FRgfh-KmH"
      },
      "outputs": [],
      "source": [
        "y_pred = model.predict(X_test)"
      ]
    },
    {
      "cell_type": "code",
      "execution_count": null,
      "metadata": {
        "id": "96tG2iDT-SSW"
      },
      "outputs": [],
      "source": [
        "accuracy = accuracy_score(y_test, y_pred)\n",
        "conf_matrix = confusion_matrix(y_test, y_pred)\n",
        "class_report = classification_report(y_test, y_pred)"
      ]
    },
    {
      "cell_type": "code",
      "execution_count": null,
      "metadata": {
        "colab": {
          "base_uri": "https://localhost:8080/"
        },
        "id": "biiuP8Cc-SEg",
        "outputId": "783a275f-c1fe-4d2d-ed11-20254a7859ca"
      },
      "outputs": [
        {
          "name": "stdout",
          "output_type": "stream",
          "text": [
            "Accuracy: 0.8481222385861561\n",
            "Confusion Matrix:\n",
            "[[3471  429]\n",
            " [ 396 1136]]\n",
            "Classification Report:\n",
            "              precision    recall  f1-score   support\n",
            "\n",
            "           1       0.90      0.89      0.89      3900\n",
            "           2       0.73      0.74      0.73      1532\n",
            "\n",
            "    accuracy                           0.85      5432\n",
            "   macro avg       0.81      0.82      0.81      5432\n",
            "weighted avg       0.85      0.85      0.85      5432\n",
            "\n"
          ]
        }
      ],
      "source": [
        "print(f'Accuracy: {accuracy}')\n",
        "print('Confusion Matrix:')\n",
        "print(conf_matrix)\n",
        "print('Classification Report:')\n",
        "print(class_report)"
      ]
    },
    {
      "cell_type": "markdown",
      "metadata": {
        "id": "7lCD-o6FW1P-"
      },
      "source": [
        "LDA and Random Forest combination"
      ]
    },
    {
      "cell_type": "code",
      "execution_count": null,
      "metadata": {
        "id": "hO3I_z5MW7xL"
      },
      "outputs": [],
      "source": [
        "df = df.dropna()\n",
        "X = df.drop(columns=['Result'])\n",
        "y = df['Result']"
      ]
    },
    {
      "cell_type": "code",
      "execution_count": null,
      "metadata": {
        "id": "D_uB4y7RXRWf"
      },
      "outputs": [],
      "source": [
        "X = pd.get_dummies(X, drop_first=True)"
      ]
    },
    {
      "cell_type": "code",
      "execution_count": null,
      "metadata": {
        "id": "poUhgQD1XVGT"
      },
      "outputs": [],
      "source": [
        "scaler = StandardScaler()\n",
        "X_scaled = scaler.fit_transform(X)"
      ]
    },
    {
      "cell_type": "code",
      "execution_count": null,
      "metadata": {
        "id": "5_u0h38mXaDD"
      },
      "outputs": [],
      "source": [
        "lda = LinearDiscriminantAnalysis(n_components=1)\n",
        "X_lda = lda.fit_transform(X_scaled, y)"
      ]
    },
    {
      "cell_type": "code",
      "execution_count": null,
      "metadata": {
        "id": "mpOTN4CEXdwa"
      },
      "outputs": [],
      "source": [
        "X_train, X_test, y_train, y_test = train_test_split(X_lda, y, test_size=0.2, random_state=42)"
      ]
    },
    {
      "cell_type": "code",
      "execution_count": null,
      "metadata": {
        "id": "RY8ZKqqmXhW1"
      },
      "outputs": [],
      "source": [
        "model = RandomForestClassifier(n_estimators=100, max_depth=10, random_state=42)"
      ]
    },
    {
      "cell_type": "code",
      "execution_count": null,
      "metadata": {
        "id": "P8FN5i-8XhAS"
      },
      "outputs": [],
      "source": [
        "cv_scores = cross_val_score(model, X_lda, y, cv=5)\n"
      ]
    },
    {
      "cell_type": "code",
      "execution_count": null,
      "metadata": {
        "colab": {
          "base_uri": "https://localhost:8080/"
        },
        "id": "hAT_kcUfXoy5",
        "outputId": "ca8c639e-53b2-489e-eb5b-bd6d164162c3"
      },
      "outputs": [
        {
          "name": "stdout",
          "output_type": "stream",
          "text": [
            "Cross-Validation Accuracy: 0.76 ± 0.00\n"
          ]
        }
      ],
      "source": [
        "print(f'Cross-Validation Accuracy: {cv_scores.mean():.2f} ± {cv_scores.std():.2f}')"
      ]
    },
    {
      "cell_type": "code",
      "execution_count": null,
      "metadata": {
        "colab": {
          "base_uri": "https://localhost:8080/",
          "height": 74
        },
        "id": "W-_V9kX8Xs_a",
        "outputId": "48cb1565-638a-4b3a-bc5c-686207480ef7"
      },
      "outputs": [
        {
          "data": {
            "text/html": [
              "<style>#sk-container-id-7 {color: black;}#sk-container-id-7 pre{padding: 0;}#sk-container-id-7 div.sk-toggleable {background-color: white;}#sk-container-id-7 label.sk-toggleable__label {cursor: pointer;display: block;width: 100%;margin-bottom: 0;padding: 0.3em;box-sizing: border-box;text-align: center;}#sk-container-id-7 label.sk-toggleable__label-arrow:before {content: \"▸\";float: left;margin-right: 0.25em;color: #696969;}#sk-container-id-7 label.sk-toggleable__label-arrow:hover:before {color: black;}#sk-container-id-7 div.sk-estimator:hover label.sk-toggleable__label-arrow:before {color: black;}#sk-container-id-7 div.sk-toggleable__content {max-height: 0;max-width: 0;overflow: hidden;text-align: left;background-color: #f0f8ff;}#sk-container-id-7 div.sk-toggleable__content pre {margin: 0.2em;color: black;border-radius: 0.25em;background-color: #f0f8ff;}#sk-container-id-7 input.sk-toggleable__control:checked~div.sk-toggleable__content {max-height: 200px;max-width: 100%;overflow: auto;}#sk-container-id-7 input.sk-toggleable__control:checked~label.sk-toggleable__label-arrow:before {content: \"▾\";}#sk-container-id-7 div.sk-estimator input.sk-toggleable__control:checked~label.sk-toggleable__label {background-color: #d4ebff;}#sk-container-id-7 div.sk-label input.sk-toggleable__control:checked~label.sk-toggleable__label {background-color: #d4ebff;}#sk-container-id-7 input.sk-hidden--visually {border: 0;clip: rect(1px 1px 1px 1px);clip: rect(1px, 1px, 1px, 1px);height: 1px;margin: -1px;overflow: hidden;padding: 0;position: absolute;width: 1px;}#sk-container-id-7 div.sk-estimator {font-family: monospace;background-color: #f0f8ff;border: 1px dotted black;border-radius: 0.25em;box-sizing: border-box;margin-bottom: 0.5em;}#sk-container-id-7 div.sk-estimator:hover {background-color: #d4ebff;}#sk-container-id-7 div.sk-parallel-item::after {content: \"\";width: 100%;border-bottom: 1px solid gray;flex-grow: 1;}#sk-container-id-7 div.sk-label:hover label.sk-toggleable__label {background-color: #d4ebff;}#sk-container-id-7 div.sk-serial::before {content: \"\";position: absolute;border-left: 1px solid gray;box-sizing: border-box;top: 0;bottom: 0;left: 50%;z-index: 0;}#sk-container-id-7 div.sk-serial {display: flex;flex-direction: column;align-items: center;background-color: white;padding-right: 0.2em;padding-left: 0.2em;position: relative;}#sk-container-id-7 div.sk-item {position: relative;z-index: 1;}#sk-container-id-7 div.sk-parallel {display: flex;align-items: stretch;justify-content: center;background-color: white;position: relative;}#sk-container-id-7 div.sk-item::before, #sk-container-id-7 div.sk-parallel-item::before {content: \"\";position: absolute;border-left: 1px solid gray;box-sizing: border-box;top: 0;bottom: 0;left: 50%;z-index: -1;}#sk-container-id-7 div.sk-parallel-item {display: flex;flex-direction: column;z-index: 1;position: relative;background-color: white;}#sk-container-id-7 div.sk-parallel-item:first-child::after {align-self: flex-end;width: 50%;}#sk-container-id-7 div.sk-parallel-item:last-child::after {align-self: flex-start;width: 50%;}#sk-container-id-7 div.sk-parallel-item:only-child::after {width: 0;}#sk-container-id-7 div.sk-dashed-wrapped {border: 1px dashed gray;margin: 0 0.4em 0.5em 0.4em;box-sizing: border-box;padding-bottom: 0.4em;background-color: white;}#sk-container-id-7 div.sk-label label {font-family: monospace;font-weight: bold;display: inline-block;line-height: 1.2em;}#sk-container-id-7 div.sk-label-container {text-align: center;}#sk-container-id-7 div.sk-container {/* jupyter's `normalize.less` sets `[hidden] { display: none; }` but bootstrap.min.css set `[hidden] { display: none !important; }` so we also need the `!important` here to be able to override the default hidden behavior on the sphinx rendered scikit-learn.org. See: https://github.com/scikit-learn/scikit-learn/issues/21755 */display: inline-block !important;position: relative;}#sk-container-id-7 div.sk-text-repr-fallback {display: none;}</style><div id=\"sk-container-id-7\" class=\"sk-top-container\"><div class=\"sk-text-repr-fallback\"><pre>RandomForestClassifier(max_depth=10, random_state=42)</pre><b>In a Jupyter environment, please rerun this cell to show the HTML representation or trust the notebook. <br />On GitHub, the HTML representation is unable to render, please try loading this page with nbviewer.org.</b></div><div class=\"sk-container\" hidden><div class=\"sk-item\"><div class=\"sk-estimator sk-toggleable\"><input class=\"sk-toggleable__control sk-hidden--visually\" id=\"sk-estimator-id-7\" type=\"checkbox\" checked><label for=\"sk-estimator-id-7\" class=\"sk-toggleable__label sk-toggleable__label-arrow\">RandomForestClassifier</label><div class=\"sk-toggleable__content\"><pre>RandomForestClassifier(max_depth=10, random_state=42)</pre></div></div></div></div></div>"
            ],
            "text/plain": [
              "RandomForestClassifier(max_depth=10, random_state=42)"
            ]
          },
          "execution_count": 132,
          "metadata": {},
          "output_type": "execute_result"
        }
      ],
      "source": [
        "model.fit(X_train, y_train)"
      ]
    },
    {
      "cell_type": "code",
      "execution_count": null,
      "metadata": {
        "id": "ufP6NVYXXwXb"
      },
      "outputs": [],
      "source": [
        "y_pred = model.predict(X_test)"
      ]
    },
    {
      "cell_type": "code",
      "execution_count": null,
      "metadata": {
        "id": "zuDmWBuSXzf_"
      },
      "outputs": [],
      "source": [
        "accuracy = accuracy_score(y_test, y_pred)\n",
        "conf_matrix = confusion_matrix(y_test, y_pred)\n",
        "class_report = classification_report(y_test, y_pred)\n"
      ]
    },
    {
      "cell_type": "code",
      "execution_count": null,
      "metadata": {
        "colab": {
          "base_uri": "https://localhost:8080/"
        },
        "id": "eBYrF6o7YJzf",
        "outputId": "6fcfb6bd-1917-45fe-d77e-d3616275fb95"
      },
      "outputs": [
        {
          "name": "stdout",
          "output_type": "stream",
          "text": [
            "Accuracy: 0.76\n",
            "Confusion Matrix:\n",
            "[[3672  228]\n",
            " [1075  457]]\n",
            "Classification Report:\n",
            "              precision    recall  f1-score   support\n",
            "\n",
            "           1       0.77      0.94      0.85      3900\n",
            "           2       0.67      0.30      0.41      1532\n",
            "\n",
            "    accuracy                           0.76      5432\n",
            "   macro avg       0.72      0.62      0.63      5432\n",
            "weighted avg       0.74      0.76      0.73      5432\n",
            "\n"
          ]
        }
      ],
      "source": [
        "print(f'Accuracy: {accuracy:.2f}')\n",
        "print('Confusion Matrix:')\n",
        "print(conf_matrix)\n",
        "print('Classification Report:')\n",
        "print(class_report)"
      ]
    },
    {
      "cell_type": "markdown",
      "metadata": {
        "id": "bzsvjKxSZjYq"
      },
      "source": [
        "Assessment of Algorithms"
      ]
    },
    {
      "cell_type": "code",
      "execution_count": null,
      "metadata": {
        "colab": {
          "base_uri": "https://localhost:8080/",
          "height": 432
        },
        "id": "F9CJYZ-Mb1On",
        "outputId": "3f62855f-ce8b-4508-f85b-bb43e570e847"
      },
      "outputs": [
        {
          "data": {
            "image/png": "[encoded data removed]",
            "text/plain": [
              "<Figure size 1800x500 with 3 Axes>"
            ]
          },
          "metadata": {},
          "output_type": "display_data"
        }
      ],
      "source": [
        "\n",
        "accuracy_lr = 0.73\n",
        "accuracy_ann = 0.71\n",
        "accuracy_dt = 0.89\n",
        "accuracy_rf = 0.82\n",
        "\n",
        "accuracy_lr_pca = 0.73\n",
        "accuracy_ann_pca = 0.72\n",
        "accuracy_dt_pca = 0.93\n",
        "accuracy_rf_pca = 0.72\n",
        "\n",
        "accuracy_lr_lda = 0.71\n",
        "accuracy_ann_lda = 0.72\n",
        "accuracy_dt_lda = 0.85\n",
        "accuracy_rf_lda = 0.76\n",
        "\n",
        "\n",
        "# Model names\n",
        "models = ['Logistic Regression', 'Artificial Neural Network', 'Decision Trees', 'Random Forest']\n",
        "\n",
        "# Accuracies without feature reduction\n",
        "accuracies = [accuracy_lr, accuracy_ann, accuracy_dt, accuracy_rf]\n",
        "\n",
        "# Accuracies with PCA\n",
        "accuracies_pca = [accuracy_lr_pca, accuracy_ann_pca, accuracy_dt_pca, accuracy_rf_pca]\n",
        "\n",
        "# Accuracies with LDA\n",
        "accuracies_lda = [accuracy_lr_lda, accuracy_ann_lda, accuracy_dt_lda, accuracy_rf_lda]\n",
        "\n",
        "# Plotting\n",
        "fig, axs = plt.subplots(1, 3, figsize=(18, 5))\n",
        "\n",
        "# Plot 1: Comparing accuracies without feature reduction\n",
        "axs[0].bar(models, accuracies, color='blue')\n",
        "axs[0].set_title('Model Accuracy Comparison')\n",
        "axs[0].set_ylabel('Accuracy')\n",
        "axs[0].set_ylim([0, 1.1])\n",
        "axs[0].tick_params(axis='x', rotation=45)\n",
        "axs[0].set_xticklabels(models, rotation=45, ha='right')\n",
        "\n",
        "# Plot 2: Comparing accuracies with PCA\n",
        "axs[1].bar(models, accuracies_pca, color='green')\n",
        "axs[1].set_title('Model Accuracy with PCA')\n",
        "axs[1].set_ylim([0, 1.1])\n",
        "axs[1].tick_params(axis='x', rotation=45)\n",
        "axs[1].set_xticklabels(models, rotation=45, ha='right')\n",
        "\n",
        "# Plot 3: Comparing accuracies with LDA\n",
        "axs[2].bar(models, accuracies_lda, color='red')\n",
        "axs[2].set_title('Model Accuracy with LDA')\n",
        "axs[2].set_ylim([0, 1.1])\n",
        "axs[2].tick_params(axis='x', rotation=45)\n",
        "axs[2].set_xticklabels(models, rotation=45, ha='right')\n",
        "\n",
        "# Adjust layout\n",
        "plt.tight_layout()\n",
        "plt.show()"
      ]
    },
    {
      "cell_type": "markdown",
      "metadata": {
        "id": "gtFbUpYcvAcs"
      },
      "source": [
        "Runtime Measurement"
      ]
    },
    {
      "cell_type": "code",
      "execution_count": null,
      "metadata": {
        "id": "OJ4yCaFBvDdg"
      },
      "outputs": [],
      "source": [
        "df = df.dropna()\n",
        "X = df.drop(columns=['Result'])\n",
        "y = df['Result']"
      ]
    },
    {
      "cell_type": "code",
      "execution_count": null,
      "metadata": {
        "id": "ixBMXrPFvQSi"
      },
      "outputs": [],
      "source": [
        "X_train, X_test, y_train, y_test = train_test_split(X_scaled, y, test_size=0.2, random_state=42)"
      ]
    },
    {
      "cell_type": "code",
      "execution_count": null,
      "metadata": {
        "colab": {
          "base_uri": "https://localhost:8080/"
        },
        "id": "qpkaZkcTvTZ2",
        "outputId": "8e4cd26d-228d-4a81-9621-5b539e127fce"
      },
      "outputs": [
        {
          "output_type": "stream",
          "name": "stdout",
          "text": [
            "Logistic Regression Runtime: 0.2351088523864746 seconds\n"
          ]
        }
      ],
      "source": [
        "start_time = time.time()\n",
        "lr_clf = LogisticRegression(random_state=42)\n",
        "lr_clf.fit(X_train, y_train)\n",
        "lr_time = time.time() - start_time\n",
        "\n",
        "print(f\"Logistic Regression Runtime: {lr_time} seconds\")"
      ]
    },
    {
      "cell_type": "code",
      "execution_count": null,
      "metadata": {
        "colab": {
          "base_uri": "https://localhost:8080/"
        },
        "id": "Drj1VGvgr5QI",
        "outputId": "0ee2439a-d760-4b5e-889d-45bc16760ce4"
      },
      "outputs": [
        {
          "output_type": "stream",
          "name": "stdout",
          "text": [
            "Logistic Regression with PCA Runtime: 0.09312009811401367 seconds\n"
          ]
        }
      ],
      "source": [
        "# Applying PCA\n",
        "pca = PCA(n_components=0.95)  # Adjust the n_components as needed\n",
        "X_train_pca = pca.fit_transform(X_train)\n",
        "X_test_pca = pca.transform(X_test)\n",
        "\n",
        "# Measure the runtime for Logistic Regression with PCA\n",
        "start_time = time.time()\n",
        "lr_clf_pca = LogisticRegression(random_state=42)\n",
        "lr_clf_pca.fit(X_train_pca, y_train)\n",
        "lr_time_pca = time.time() - start_time\n",
        "\n",
        "\n",
        "print(f\"Logistic Regression with PCA Runtime: {lr_time_pca} seconds\")\n"
      ]
    },
    {
      "cell_type": "code",
      "execution_count": null,
      "metadata": {
        "colab": {
          "base_uri": "https://localhost:8080/"
        },
        "id": "bmIsH-NtsXVK",
        "outputId": "ea21bdf3-c75c-4310-ae07-06c0c86dfc22"
      },
      "outputs": [
        {
          "output_type": "stream",
          "name": "stdout",
          "text": [
            "Logistic Regression with LDA Runtime: 0.057523250579833984 seconds\n"
          ]
        }
      ],
      "source": [
        "# Applying LDA\n",
        "lda = LDA(n_components=1)  # Adjust the n_components as needed\n",
        "X_train_lda = lda.fit_transform(X_train, y_train)\n",
        "X_test_lda = lda.transform(X_test)\n",
        "\n",
        "# Measure the runtime for Logistic Regression with LDA\n",
        "start_time = time.time()\n",
        "lr_clf_lda = LogisticRegression(random_state=42)\n",
        "lr_clf_lda.fit(X_train_lda, y_train)\n",
        "lr_time_lda = time.time() - start_time\n",
        "\n",
        "\n",
        "\n",
        "print(f\"Logistic Regression with LDA Runtime: {lr_time_lda} seconds\")"
      ]
    },
    {
      "cell_type": "code",
      "execution_count": null,
      "metadata": {
        "colab": {
          "base_uri": "https://localhost:8080/"
        },
        "id": "CStoEsq9vWWD",
        "outputId": "7aa4365f-70f6-4358-fe30-71026a53c52c"
      },
      "outputs": [
        {
          "output_type": "stream",
          "name": "stdout",
          "text": [
            "Decision Tree Runtime: 0.21959519386291504 seconds\n"
          ]
        }
      ],
      "source": [
        "start_time = time.time()\n",
        "dt_clf = DecisionTreeClassifier(random_state=42)\n",
        "dt_clf.fit(X_train, y_train)\n",
        "dt_time = time.time() - start_time\n",
        "\n",
        "\n",
        "print(f\"Decision Tree Runtime: {dt_time} seconds\")"
      ]
    },
    {
      "cell_type": "code",
      "execution_count": null,
      "metadata": {
        "colab": {
          "base_uri": "https://localhost:8080/"
        },
        "id": "UwFxKFTms9yU",
        "outputId": "ea4f0ae7-235d-4bb2-adba-5d8dfb3b80b0"
      },
      "outputs": [
        {
          "name": "stdout",
          "output_type": "stream",
          "text": [
            "Decision Tree with PCA Runtime: 0.3037376403808594 seconds\n"
          ]
        }
      ],
      "source": [
        "# Applying PCA\n",
        "pca = PCA(n_components=0.95)  # Adjust the n_components as needed\n",
        "X_train_pca = pca.fit_transform(X_train)\n",
        "X_test_pca = pca.transform(X_test)\n",
        "\n",
        "# Measure the runtime for Decision Tree with PCA\n",
        "start_time = time.time()\n",
        "dt_clf_pca = DecisionTreeClassifier(random_state=42)\n",
        "dt_clf_pca.fit(X_train_pca, y_train)\n",
        "dt_time_pca = time.time() - start_time\n",
        "\n",
        "\n",
        "print(f\"Decision Tree with PCA Runtime: {dt_time_pca} seconds\")"
      ]
    },
    {
      "cell_type": "code",
      "execution_count": null,
      "metadata": {
        "colab": {
          "base_uri": "https://localhost:8080/"
        },
        "id": "DFwjcCbotY1C",
        "outputId": "07fdb278-4a14-4dfd-f66a-bcfa8ee7d888"
      },
      "outputs": [
        {
          "name": "stdout",
          "output_type": "stream",
          "text": [
            "Decision Tree with LDA Runtime: 0.07213234901428223 seconds\n"
          ]
        }
      ],
      "source": [
        "# Applying LDA\n",
        "lda = LDA(n_components=1)  # Adjust the n_components as needed\n",
        "X_train_lda = lda.fit_transform(X_train, y_train)\n",
        "X_test_lda = lda.transform(X_test)\n",
        "\n",
        "# Measure the runtime for Decision Tree with LDA\n",
        "start_time = time.time()\n",
        "dt_clf_lda = DecisionTreeClassifier(random_state=42)\n",
        "dt_clf_lda.fit(X_train_lda, y_train)\n",
        "dt_time_lda = time.time() - start_time\n",
        "\n",
        "\n",
        "\n",
        "print(f\"Decision Tree with LDA Runtime: {dt_time_lda} seconds\")"
      ]
    },
    {
      "cell_type": "code",
      "execution_count": null,
      "metadata": {
        "colab": {
          "base_uri": "https://localhost:8080/"
        },
        "id": "bnf8UuBwvcyc",
        "outputId": "f7ccb67c-ce1d-473b-9d4e-02552c70677f"
      },
      "outputs": [
        {
          "name": "stdout",
          "output_type": "stream",
          "text": [
            "Random Forest Training Runtime: 2.5507051944732666 seconds\n"
          ]
        }
      ],
      "source": [
        "start_time = time.time()\n",
        "rf_clf = RandomForestClassifier(random_state=42)\n",
        "start_time = time.time()\n",
        "rf_clf.fit(X_train, y_train)\n",
        "rf_time = time.time() - start_time\n",
        "print(f\"Random Forest Training Runtime: {rf_time} seconds\")"
      ]
    },
    {
      "cell_type": "code",
      "execution_count": null,
      "metadata": {
        "colab": {
          "base_uri": "https://localhost:8080/"
        },
        "id": "M2UzwTiFx6uM",
        "outputId": "c621ed96-6eba-4dc5-8d2a-50c7a73c75f3"
      },
      "outputs": [
        {
          "name": "stdout",
          "output_type": "stream",
          "text": [
            "Random Forest with PCA Runtime: 7.470663070678711 seconds\n"
          ]
        }
      ],
      "source": [
        "# Applying PCA\n",
        "pca = PCA(n_components=0.95)  # Adjust the n_components as needed\n",
        "X_train_pca = pca.fit_transform(X_train)\n",
        "X_test_pca = pca.transform(X_test)\n",
        "\n",
        "# Measure the runtime for Random Forest with PCA\n",
        "start_time = time.time()\n",
        "rf_clf_pca = RandomForestClassifier(random_state=42)\n",
        "rf_clf_pca.fit(X_train_pca, y_train)\n",
        "rf_time_pca = time.time() - start_time\n",
        "\n",
        "\n",
        "print(f\"Random Forest with PCA Runtime: {rf_time_pca} seconds\")"
      ]
    },
    {
      "cell_type": "code",
      "execution_count": null,
      "metadata": {
        "colab": {
          "base_uri": "https://localhost:8080/"
        },
        "id": "43V-xS0tAYqs",
        "outputId": "3f886750-56f2-45cc-e0c5-8561846d2a03"
      },
      "outputs": [
        {
          "name": "stdout",
          "output_type": "stream",
          "text": [
            "Random Forest with LDA Runtime: 3.53635835647583 seconds\n"
          ]
        }
      ],
      "source": [
        "# Applying LDA\n",
        "lda = LDA(n_components=1)  # Adjust the n_components as needed\n",
        "X_train_lda = lda.fit_transform(X_train, y_train)\n",
        "X_test_lda = lda.transform(X_test)\n",
        "\n",
        "# Measure the runtime for Random Forest with LDA\n",
        "start_time = time.time()\n",
        "rf_clf_lda = RandomForestClassifier(random_state=42)\n",
        "rf_clf_lda.fit(X_train_lda, y_train)\n",
        "rf_time_lda = time.time() - start_time\n",
        "\n",
        "\n",
        "print(f\"Random Forest with LDA Runtime: {rf_time_lda} seconds\")"
      ]
    },
    {
      "cell_type": "code",
      "execution_count": null,
      "metadata": {
        "colab": {
          "base_uri": "https://localhost:8080/"
        },
        "id": "cKN3tabSvf6q",
        "outputId": "e6fee019-0a3d-49c4-a379-d1cbed3badb7"
      },
      "outputs": [
        {
          "output_type": "stream",
          "name": "stdout",
          "text": [
            "ANN Runtime: 264.49969816207886 seconds\n"
          ]
        }
      ],
      "source": [
        "start_time = time.time()\n",
        "ann_model = Sequential()\n",
        "ann_model.add(Dense(128, input_dim=X_train.shape[1], activation='relu'))\n",
        "ann_model.add(Dropout(0.5))\n",
        "ann_model.add(Dense(64, activation='relu'))\n",
        "ann_model.add(Dense(1, activation='sigmoid'))\n",
        "ann_model.compile(optimizer='adam', loss='binary_crossentropy', metrics=['accuracy'])\n",
        "ann_model.fit(X_train, y_train, epochs=50, batch_size=10, verbose=0)\n",
        "ann_time = time.time() - start_time\n",
        "\n",
        "print(f\"ANN Runtime: {ann_time} seconds\")"
      ]
    },
    {
      "cell_type": "code",
      "execution_count": null,
      "metadata": {
        "id": "uHQXzb65A1cp",
        "colab": {
          "base_uri": "https://localhost:8080/"
        },
        "outputId": "306066f8-c029-4161-bb8d-db80a3f5997c"
      },
      "outputs": [
        {
          "output_type": "stream",
          "name": "stdout",
          "text": [
            "170/170 [==============================] - 0s 2ms/step\n",
            "ANN with PCA Runtime: 234.05810022354126 seconds\n"
          ]
        }
      ],
      "source": [
        "# Applying PCA\n",
        "pca = PCA(n_components=0.95)  # Adjust the n_components as needed\n",
        "X_train_pca = pca.fit_transform(X_train)\n",
        "X_test_pca = pca.transform(X_test)\n",
        "\n",
        "# Define and measure the runtime for ANN with PCA\n",
        "start_time = time.time()\n",
        "ann_model_pca = Sequential()\n",
        "ann_model_pca.add(Dense(128, input_dim=X_train_pca.shape[1], activation='relu'))\n",
        "ann_model_pca.add(Dropout(0.5))\n",
        "ann_model_pca.add(Dense(64, activation='relu'))\n",
        "ann_model_pca.add(Dense(1, activation='sigmoid'))\n",
        "ann_model_pca.compile(optimizer='adam', loss='binary_crossentropy', metrics=['accuracy'])\n",
        "ann_model_pca.fit(X_train_pca, y_train, epochs=50, batch_size=10, verbose=0)\n",
        "ann_time_pca = time.time() - start_time\n",
        "\n",
        "print(f\"ANN with PCA Runtime: {ann_time_pca} seconds\")\n"
      ]
    },
    {
      "cell_type": "code",
      "execution_count": null,
      "metadata": {
        "colab": {
          "background_save": true
        },
        "id": "XSbdYrwTBX3z",
        "outputId": "54d065a1-553b-48ca-f50b-26842729e508"
      },
      "outputs": [
        {
          "name": "stdout",
          "output_type": "stream",
          "text": [
            "170/170 [==============================] - 1s 2ms/step\n",
            "ANN with LDA Runtime: 262.97805881500244 seconds\n"
          ]
        }
      ],
      "source": [
        "# Applying LDA\n",
        "lda = LDA(n_components=1)  # Adjust the n_components as needed\n",
        "X_train_lda = lda.fit_transform(X_train, y_train)\n",
        "X_test_lda = lda.transform(X_test)\n",
        "\n",
        "# Define and measure the runtime for ANN with LDA\n",
        "start_time = time.time()\n",
        "ann_model_lda = Sequential()\n",
        "ann_model_lda.add(Dense(128, input_dim=X_train_lda.shape[1], activation='relu'))\n",
        "ann_model_lda.add(Dropout(0.5))\n",
        "ann_model_lda.add(Dense(64, activation='relu'))\n",
        "ann_model_lda.add(Dense(1, activation='sigmoid'))\n",
        "ann_model_lda.compile(optimizer='adam', loss='binary_crossentropy', metrics=['accuracy'])\n",
        "ann_model_lda.fit(X_train_lda, y_train, epochs=50, batch_size=10, verbose=0)\n",
        "ann_time_lda = time.time() - start_time\n",
        "\n",
        "\n",
        "print(f\"ANN with LDA Runtime: {ann_time_lda} seconds\")\n",
        "\n"
      ]
    }
  ],
  "metadata": {
    "colab": {
      "provenance": []
    },
    "kernelspec": {
      "display_name": "Python 3",
      "name": "python3"
    },
    "language_info": {
      "name": "python"
    }
  },
  "nbformat": 4,
  "nbformat_minor": 0
}